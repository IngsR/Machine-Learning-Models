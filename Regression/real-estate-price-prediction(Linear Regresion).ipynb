{
 "cells": [
  {
   "cell_type": "markdown",
   "id": "71979e54",
   "metadata": {},
   "source": [
    "# <center> ★ Real Estate Price Prediction Using Machine Learning ★"
   ]
  },
  {
   "cell_type": "markdown",
   "id": "753099fa",
   "metadata": {},
   "source": [
    "###   Life Cycle of Machine Learning Project \n",
    "1. Introduction\n",
    "2. Data Cleaning and Preparation.\n",
    "3. Feature Engineering & Dimensional Reductuction\n",
    "4. Training a Model\n",
    "5. Model Deployment"
   ]
  },
  {
   "cell_type": "markdown",
   "id": "cacb4141",
   "metadata": {
    "papermill": {
     "duration": 0.024106,
     "end_time": "2024-04-10T15:21:51.115495",
     "exception": false,
     "start_time": "2024-04-10T15:21:51.091389",
     "status": "completed"
    },
    "tags": []
   },
   "source": [
    "<!-- <div style=\" width: 80%; margin: 5px auto; background:#31363F; border-radius: 10px; padding: 2px; display: flex; align-items: center; justify-content: center; gap: 1px;\">\n",
    "<!--     <span style=\"font-size: 40px; color: hsl(178, 100%, 50%)\"> 👋 </span>  -->\n",
    "<div>\n",
    "\n",
    "<!-- <h1 style=\"  \n",
    "  margin: 0;\n",
    "  color: hsl(176, 100%, 28%);\n",
    "  font-weight: 800;\">\n",
    "\n",
    "  Welcome to my Notebook!\n",
    "\n",
    "</h1> \n",
    "\n",
    "<p style=\"\n",
    "  color: Orange;\n",
    "  line-height: 0.5;\">\n",
    "\n",
    "  Feel free to explore the contents. 📚\n",
    "\n",
    "</p>\n",
    "    </div>\n",
    "</div> --> "
   ]
  },
  {
   "cell_type": "markdown",
   "id": "ca47c5b3",
   "metadata": {},
   "source": [
    "##  <center> ★ Introduction ★"
   ]
  },
  {
   "cell_type": "markdown",
   "id": "413c4a8d",
   "metadata": {},
   "source": [
    "Selamat datang di kumpulan data Bengaluru_House_Data yang berisi detail properti hunian di Bengaluru, India. Kumpulan data ini mencakup atribut seperti area_type, lokasi, ketersediaan, ukuran, masyarakat, total_sqft, kamar mandi, balkon, dan harga di berbagai lokasi di kota tersebut. Data perumahan yang komprehensif ini memberikan wawasan berharga tentang pasar real estat Bengaluru. Kami akan mendalami data tersebut untuk mengekstrak wawasan, melakukan analisis data eksploratori (EDA), dan menarik kesimpulan yang berarti serta melatih model kami untuk memprediksi harga."
   ]
  },
  {
   "cell_type": "markdown",
   "id": "583c6ca9",
   "metadata": {
    "papermill": {
     "duration": 0.023979,
     "end_time": "2024-04-10T15:21:51.212322",
     "exception": false,
     "start_time": "2024-04-10T15:21:51.188343",
     "status": "completed"
    },
    "tags": []
   },
   "source": [
    "## Notebook ini mencakup:\n",
    "\n",
    "| **Topik**                         | **Deskripsi**  |\n",
    "|------------------------------------|---------------|\n",
    "| **Menghapus nilai NA**            | Menghapus nilai yang hilang dari dataset. |\n",
    "| **Analisis Statistik**            | Melakukan statistik deskriptif dan uji inferensial untuk memahami distribusi dan hubungan data. |\n",
    "| **Membuat token pada teks**       | Membagi teks menjadi kata-kata atau token untuk analisis lebih lanjut dalam pemrosesan bahasa alami. |\n",
    "| **Penghapusan outlier**           | Mendeteksi dan menghapus outlier untuk mencegah penyimpangan analisis. |\n",
    "| **Pengurangan Dimensionalitas**   | Mengurangi jumlah fitur dalam dataset menggunakan teknik seperti PCA. |\n",
    "| **Rekayasa Fitur**                | Membuat atau mengubah fitur untuk meningkatkan kinerja model. |\n",
    "| **Visualisasi Data**              | Membuat visualisasi dari tingkat dasar hingga tingkat lanjut. |\n",
    "| **Pencarian Grid**                | Menyetel hiperparameter dengan mencari kombinasi terbaik dalam ruang parameter. |\n",
    "| **Regresi Lasso**                 | Regresi linier dengan teknik penyusutan untuk memilih fitur yang penting. |\n",
    "| **Regresi Linier**                | Memodelkan hubungan antara variabel independen dan dependen untuk prediksi. |\n",
    "| **Pengklasifikasi Pohon Keputusan** | Algoritma ML yang menggunakan model pohon untuk prediksi. |\n",
    "| **Evaluasi Model**                | Menilai kinerja model menggunakan metrik seperti akurasi, presisi, dan F1-score. |\n",
    "| **Membuat Berkas Pickle**         | Menyimpan model yang telah dilatih untuk digunakan dalam aplikasi. |\n"
   ]
  },
  {
   "cell_type": "markdown",
   "id": "18d6de63",
   "metadata": {},
   "source": [
    "##   Data Cleaning and Preparation "
   ]
  },
  {
   "cell_type": "markdown",
   "id": "d969d45c",
   "metadata": {},
   "source": [
    "## Import Libraries"
   ]
  },
  {
   "cell_type": "code",
   "execution_count": 129,
   "id": "f6efa040",
   "metadata": {
    "execution": {
     "iopub.execute_input": "2024-04-10T15:21:51.407397Z",
     "iopub.status.busy": "2024-04-10T15:21:51.406578Z",
     "iopub.status.idle": "2024-04-10T15:21:53.257008Z",
     "shell.execute_reply": "2024-04-10T15:21:53.256032Z"
    },
    "papermill": {
     "duration": 1.878233,
     "end_time": "2024-04-10T15:21:53.259264",
     "exception": false,
     "start_time": "2024-04-10T15:21:51.381031",
     "status": "completed"
    },
    "tags": []
   },
   "outputs": [],
   "source": [
    "import pandas as pd\n",
    "import numpy as np\n",
    "import seaborn as sns\n",
    "import matplotlib.pyplot as plt\n",
    "import matplotlib\n",
    "import warnings\n",
    "warnings.filterwarnings('ignore')\n",
    "matplotlib.rcParams[\"figure.figsize\"] = (20,10)"
   ]
  },
  {
   "cell_type": "markdown",
   "id": "098071f1",
   "metadata": {
    "papermill": {
     "duration": 0.02395,
     "end_time": "2024-04-10T15:21:53.308118",
     "exception": false,
     "start_time": "2024-04-10T15:21:53.284168",
     "status": "completed"
    },
    "tags": []
   },
   "source": [
    "## Load Dataset "
   ]
  },
  {
   "cell_type": "code",
   "execution_count": 130,
   "id": "92a242cc",
   "metadata": {
    "execution": {
     "iopub.execute_input": "2024-04-10T15:21:53.396005Z",
     "iopub.status.busy": "2024-04-10T15:21:53.395577Z",
     "iopub.status.idle": "2024-04-10T15:21:53.442900Z",
     "shell.execute_reply": "2024-04-10T15:21:53.442157Z"
    },
    "papermill": {
     "duration": 0.074769,
     "end_time": "2024-04-10T15:21:53.445094",
     "exception": false,
     "start_time": "2024-04-10T15:21:53.370325",
     "status": "completed"
    },
    "tags": []
   },
   "outputs": [],
   "source": [
    "df1 = pd.read_csv('../Data/Bengaluru_House_Data.csv')"
   ]
  },
  {
   "cell_type": "code",
   "execution_count": 131,
   "id": "7b08e79a",
   "metadata": {
    "execution": {
     "iopub.execute_input": "2024-04-10T15:21:53.495741Z",
     "iopub.status.busy": "2024-04-10T15:21:53.495128Z",
     "iopub.status.idle": "2024-04-10T15:21:53.514430Z",
     "shell.execute_reply": "2024-04-10T15:21:53.513586Z"
    },
    "papermill": {
     "duration": 0.046764,
     "end_time": "2024-04-10T15:21:53.516820",
     "exception": false,
     "start_time": "2024-04-10T15:21:53.470056",
     "status": "completed"
    },
    "tags": []
   },
   "outputs": [
    {
     "data": {
      "text/html": [
       "<div>\n",
       "<style scoped>\n",
       "    .dataframe tbody tr th:only-of-type {\n",
       "        vertical-align: middle;\n",
       "    }\n",
       "\n",
       "    .dataframe tbody tr th {\n",
       "        vertical-align: top;\n",
       "    }\n",
       "\n",
       "    .dataframe thead th {\n",
       "        text-align: right;\n",
       "    }\n",
       "</style>\n",
       "<table border=\"1\" class=\"dataframe\">\n",
       "  <thead>\n",
       "    <tr style=\"text-align: right;\">\n",
       "      <th></th>\n",
       "      <th>area_type</th>\n",
       "      <th>availability</th>\n",
       "      <th>location</th>\n",
       "      <th>size</th>\n",
       "      <th>society</th>\n",
       "      <th>total_sqft</th>\n",
       "      <th>bath</th>\n",
       "      <th>balcony</th>\n",
       "      <th>price</th>\n",
       "    </tr>\n",
       "  </thead>\n",
       "  <tbody>\n",
       "    <tr>\n",
       "      <th>0</th>\n",
       "      <td>Super built-up  Area</td>\n",
       "      <td>19-Dec</td>\n",
       "      <td>Electronic City Phase II</td>\n",
       "      <td>2 BHK</td>\n",
       "      <td>Coomee</td>\n",
       "      <td>1056</td>\n",
       "      <td>2.0</td>\n",
       "      <td>1.0</td>\n",
       "      <td>39.07</td>\n",
       "    </tr>\n",
       "    <tr>\n",
       "      <th>1</th>\n",
       "      <td>Plot  Area</td>\n",
       "      <td>Ready To Move</td>\n",
       "      <td>Chikka Tirupathi</td>\n",
       "      <td>4 Bedroom</td>\n",
       "      <td>Theanmp</td>\n",
       "      <td>2600</td>\n",
       "      <td>5.0</td>\n",
       "      <td>3.0</td>\n",
       "      <td>120.00</td>\n",
       "    </tr>\n",
       "    <tr>\n",
       "      <th>2</th>\n",
       "      <td>Built-up  Area</td>\n",
       "      <td>Ready To Move</td>\n",
       "      <td>Uttarahalli</td>\n",
       "      <td>3 BHK</td>\n",
       "      <td>NaN</td>\n",
       "      <td>1440</td>\n",
       "      <td>2.0</td>\n",
       "      <td>3.0</td>\n",
       "      <td>62.00</td>\n",
       "    </tr>\n",
       "    <tr>\n",
       "      <th>3</th>\n",
       "      <td>Super built-up  Area</td>\n",
       "      <td>Ready To Move</td>\n",
       "      <td>Lingadheeranahalli</td>\n",
       "      <td>3 BHK</td>\n",
       "      <td>Soiewre</td>\n",
       "      <td>1521</td>\n",
       "      <td>3.0</td>\n",
       "      <td>1.0</td>\n",
       "      <td>95.00</td>\n",
       "    </tr>\n",
       "    <tr>\n",
       "      <th>4</th>\n",
       "      <td>Super built-up  Area</td>\n",
       "      <td>Ready To Move</td>\n",
       "      <td>Kothanur</td>\n",
       "      <td>2 BHK</td>\n",
       "      <td>NaN</td>\n",
       "      <td>1200</td>\n",
       "      <td>2.0</td>\n",
       "      <td>1.0</td>\n",
       "      <td>51.00</td>\n",
       "    </tr>\n",
       "  </tbody>\n",
       "</table>\n",
       "</div>"
      ],
      "text/plain": [
       "              area_type   availability                  location       size  \\\n",
       "0  Super built-up  Area         19-Dec  Electronic City Phase II      2 BHK   \n",
       "1            Plot  Area  Ready To Move          Chikka Tirupathi  4 Bedroom   \n",
       "2        Built-up  Area  Ready To Move               Uttarahalli      3 BHK   \n",
       "3  Super built-up  Area  Ready To Move        Lingadheeranahalli      3 BHK   \n",
       "4  Super built-up  Area  Ready To Move                  Kothanur      2 BHK   \n",
       "\n",
       "   society total_sqft  bath  balcony   price  \n",
       "0  Coomee        1056   2.0      1.0   39.07  \n",
       "1  Theanmp       2600   5.0      3.0  120.00  \n",
       "2      NaN       1440   2.0      3.0   62.00  \n",
       "3  Soiewre       1521   3.0      1.0   95.00  \n",
       "4      NaN       1200   2.0      1.0   51.00  "
      ]
     },
     "execution_count": 131,
     "metadata": {},
     "output_type": "execute_result"
    }
   ],
   "source": [
    "df1.head()"
   ]
  },
  {
   "cell_type": "markdown",
   "id": "cc4c2651",
   "metadata": {
    "papermill": {
     "duration": 0.024124,
     "end_time": "2024-04-10T15:21:53.566603",
     "exception": false,
     "start_time": "2024-04-10T15:21:53.542479",
     "status": "completed"
    },
    "tags": []
   },
   "source": [
    "## Memahami dataset "
   ]
  },
  {
   "cell_type": "code",
   "execution_count": 132,
   "id": "2a80078f",
   "metadata": {
    "execution": {
     "iopub.execute_input": "2024-04-10T15:21:53.617317Z",
     "iopub.status.busy": "2024-04-10T15:21:53.617042Z",
     "iopub.status.idle": "2024-04-10T15:21:53.622333Z",
     "shell.execute_reply": "2024-04-10T15:21:53.621492Z"
    },
    "papermill": {
     "duration": 0.033228,
     "end_time": "2024-04-10T15:21:53.624296",
     "exception": false,
     "start_time": "2024-04-10T15:21:53.591068",
     "status": "completed"
    },
    "tags": []
   },
   "outputs": [
    {
     "data": {
      "text/plain": [
       "(13320, 9)"
      ]
     },
     "execution_count": 132,
     "metadata": {},
     "output_type": "execute_result"
    }
   ],
   "source": [
    "df1.shape"
   ]
  },
  {
   "cell_type": "code",
   "execution_count": 133,
   "id": "d501b295",
   "metadata": {
    "execution": {
     "iopub.execute_input": "2024-04-10T15:21:53.674981Z",
     "iopub.status.busy": "2024-04-10T15:21:53.674721Z",
     "iopub.status.idle": "2024-04-10T15:21:53.689124Z",
     "shell.execute_reply": "2024-04-10T15:21:53.688473Z"
    },
    "papermill": {
     "duration": 0.042127,
     "end_time": "2024-04-10T15:21:53.691011",
     "exception": false,
     "start_time": "2024-04-10T15:21:53.648884",
     "status": "completed"
    },
    "tags": []
   },
   "outputs": [],
   "source": [
    "df2 = df1.groupby('area_type')['area_type'].agg('count')"
   ]
  },
  {
   "cell_type": "code",
   "execution_count": 134,
   "id": "bf4748fb",
   "metadata": {
    "execution": {
     "iopub.execute_input": "2024-04-10T15:21:53.743162Z",
     "iopub.status.busy": "2024-04-10T15:21:53.742918Z",
     "iopub.status.idle": "2024-04-10T15:21:53.749460Z",
     "shell.execute_reply": "2024-04-10T15:21:53.748561Z"
    },
    "papermill": {
     "duration": 0.035055,
     "end_time": "2024-04-10T15:21:53.751414",
     "exception": false,
     "start_time": "2024-04-10T15:21:53.716359",
     "status": "completed"
    },
    "tags": []
   },
   "outputs": [
    {
     "data": {
      "text/plain": [
       "area_type\n",
       "Built-up  Area          2418\n",
       "Carpet  Area              87\n",
       "Plot  Area              2025\n",
       "Super built-up  Area    8790\n",
       "Name: area_type, dtype: int64"
      ]
     },
     "execution_count": 134,
     "metadata": {},
     "output_type": "execute_result"
    }
   ],
   "source": [
    "df2.head()"
   ]
  },
  {
   "cell_type": "code",
   "execution_count": 135,
   "id": "ba2798b9",
   "metadata": {
    "execution": {
     "iopub.execute_input": "2024-04-10T15:21:53.803181Z",
     "iopub.status.busy": "2024-04-10T15:21:53.802556Z",
     "iopub.status.idle": "2024-04-10T15:21:53.809903Z",
     "shell.execute_reply": "2024-04-10T15:21:53.809094Z"
    },
    "papermill": {
     "duration": 0.035036,
     "end_time": "2024-04-10T15:21:53.811791",
     "exception": false,
     "start_time": "2024-04-10T15:21:53.776755",
     "status": "completed"
    },
    "tags": []
   },
   "outputs": [],
   "source": [
    "df2 = df1.drop (['area_type', 'society','balcony','availability'], axis = 'columns')"
   ]
  },
  {
   "cell_type": "code",
   "execution_count": 136,
   "id": "890588f3",
   "metadata": {
    "execution": {
     "iopub.execute_input": "2024-04-10T15:21:53.862230Z",
     "iopub.status.busy": "2024-04-10T15:21:53.861988Z",
     "iopub.status.idle": "2024-04-10T15:21:53.873748Z",
     "shell.execute_reply": "2024-04-10T15:21:53.872928Z"
    },
    "papermill": {
     "duration": 0.039266,
     "end_time": "2024-04-10T15:21:53.875783",
     "exception": false,
     "start_time": "2024-04-10T15:21:53.836517",
     "status": "completed"
    },
    "tags": []
   },
   "outputs": [
    {
     "data": {
      "text/html": [
       "<div>\n",
       "<style scoped>\n",
       "    .dataframe tbody tr th:only-of-type {\n",
       "        vertical-align: middle;\n",
       "    }\n",
       "\n",
       "    .dataframe tbody tr th {\n",
       "        vertical-align: top;\n",
       "    }\n",
       "\n",
       "    .dataframe thead th {\n",
       "        text-align: right;\n",
       "    }\n",
       "</style>\n",
       "<table border=\"1\" class=\"dataframe\">\n",
       "  <thead>\n",
       "    <tr style=\"text-align: right;\">\n",
       "      <th></th>\n",
       "      <th>location</th>\n",
       "      <th>size</th>\n",
       "      <th>total_sqft</th>\n",
       "      <th>bath</th>\n",
       "      <th>price</th>\n",
       "    </tr>\n",
       "  </thead>\n",
       "  <tbody>\n",
       "    <tr>\n",
       "      <th>0</th>\n",
       "      <td>Electronic City Phase II</td>\n",
       "      <td>2 BHK</td>\n",
       "      <td>1056</td>\n",
       "      <td>2.0</td>\n",
       "      <td>39.07</td>\n",
       "    </tr>\n",
       "    <tr>\n",
       "      <th>1</th>\n",
       "      <td>Chikka Tirupathi</td>\n",
       "      <td>4 Bedroom</td>\n",
       "      <td>2600</td>\n",
       "      <td>5.0</td>\n",
       "      <td>120.00</td>\n",
       "    </tr>\n",
       "    <tr>\n",
       "      <th>2</th>\n",
       "      <td>Uttarahalli</td>\n",
       "      <td>3 BHK</td>\n",
       "      <td>1440</td>\n",
       "      <td>2.0</td>\n",
       "      <td>62.00</td>\n",
       "    </tr>\n",
       "    <tr>\n",
       "      <th>3</th>\n",
       "      <td>Lingadheeranahalli</td>\n",
       "      <td>3 BHK</td>\n",
       "      <td>1521</td>\n",
       "      <td>3.0</td>\n",
       "      <td>95.00</td>\n",
       "    </tr>\n",
       "    <tr>\n",
       "      <th>4</th>\n",
       "      <td>Kothanur</td>\n",
       "      <td>2 BHK</td>\n",
       "      <td>1200</td>\n",
       "      <td>2.0</td>\n",
       "      <td>51.00</td>\n",
       "    </tr>\n",
       "  </tbody>\n",
       "</table>\n",
       "</div>"
      ],
      "text/plain": [
       "                   location       size total_sqft  bath   price\n",
       "0  Electronic City Phase II      2 BHK       1056   2.0   39.07\n",
       "1          Chikka Tirupathi  4 Bedroom       2600   5.0  120.00\n",
       "2               Uttarahalli      3 BHK       1440   2.0   62.00\n",
       "3        Lingadheeranahalli      3 BHK       1521   3.0   95.00\n",
       "4                  Kothanur      2 BHK       1200   2.0   51.00"
      ]
     },
     "execution_count": 136,
     "metadata": {},
     "output_type": "execute_result"
    }
   ],
   "source": [
    "df2.head()"
   ]
  },
  {
   "cell_type": "markdown",
   "id": "6b609cde",
   "metadata": {
    "papermill": {
     "duration": 0.024901,
     "end_time": "2024-04-10T15:21:53.926222",
     "exception": false,
     "start_time": "2024-04-10T15:21:53.901321",
     "status": "completed"
    },
    "tags": []
   },
   "source": [
    "## Data Cleaning "
   ]
  },
  {
   "cell_type": "code",
   "execution_count": 137,
   "id": "827c7084",
   "metadata": {
    "execution": {
     "iopub.execute_input": "2024-04-10T15:21:53.977250Z",
     "iopub.status.busy": "2024-04-10T15:21:53.976980Z",
     "iopub.status.idle": "2024-04-10T15:21:53.988163Z",
     "shell.execute_reply": "2024-04-10T15:21:53.987354Z"
    },
    "papermill": {
     "duration": 0.038968,
     "end_time": "2024-04-10T15:21:53.990077",
     "exception": false,
     "start_time": "2024-04-10T15:21:53.951109",
     "status": "completed"
    },
    "tags": []
   },
   "outputs": [
    {
     "data": {
      "text/plain": [
       "location       1\n",
       "size          16\n",
       "total_sqft     0\n",
       "bath          73\n",
       "price          0\n",
       "dtype: int64"
      ]
     },
     "execution_count": 137,
     "metadata": {},
     "output_type": "execute_result"
    }
   ],
   "source": [
    "df2.isnull().sum()"
   ]
  },
  {
   "cell_type": "code",
   "execution_count": 138,
   "id": "75f7d77a",
   "metadata": {
    "execution": {
     "iopub.execute_input": "2024-04-10T15:21:54.041154Z",
     "iopub.status.busy": "2024-04-10T15:21:54.040887Z",
     "iopub.status.idle": "2024-04-10T15:21:54.058400Z",
     "shell.execute_reply": "2024-04-10T15:21:54.057583Z"
    },
    "papermill": {
     "duration": 0.045238,
     "end_time": "2024-04-10T15:21:54.060334",
     "exception": false,
     "start_time": "2024-04-10T15:21:54.015096",
     "status": "completed"
    },
    "tags": []
   },
   "outputs": [
    {
     "data": {
      "text/plain": [
       "location      0\n",
       "size          0\n",
       "total_sqft    0\n",
       "bath          0\n",
       "price         0\n",
       "dtype: int64"
      ]
     },
     "execution_count": 138,
     "metadata": {},
     "output_type": "execute_result"
    }
   ],
   "source": [
    "df3 = df2.dropna()\n",
    "df3.isnull().sum()\n"
   ]
  },
  {
   "cell_type": "code",
   "execution_count": 139,
   "id": "537ec8ce",
   "metadata": {
    "execution": {
     "iopub.execute_input": "2024-04-10T15:21:54.114706Z",
     "iopub.status.busy": "2024-04-10T15:21:54.114365Z",
     "iopub.status.idle": "2024-04-10T15:21:54.120060Z",
     "shell.execute_reply": "2024-04-10T15:21:54.119183Z"
    },
    "papermill": {
     "duration": 0.034992,
     "end_time": "2024-04-10T15:21:54.121985",
     "exception": false,
     "start_time": "2024-04-10T15:21:54.086993",
     "status": "completed"
    },
    "tags": []
   },
   "outputs": [
    {
     "data": {
      "text/plain": [
       "(13246, 5)"
      ]
     },
     "execution_count": 139,
     "metadata": {},
     "output_type": "execute_result"
    }
   ],
   "source": [
    "df3.shape"
   ]
  },
  {
   "cell_type": "code",
   "execution_count": 140,
   "id": "0420f4f1",
   "metadata": {
    "execution": {
     "iopub.execute_input": "2024-04-10T15:21:54.176124Z",
     "iopub.status.busy": "2024-04-10T15:21:54.175837Z",
     "iopub.status.idle": "2024-04-10T15:21:54.182762Z",
     "shell.execute_reply": "2024-04-10T15:21:54.181951Z"
    },
    "papermill": {
     "duration": 0.036281,
     "end_time": "2024-04-10T15:21:54.184859",
     "exception": false,
     "start_time": "2024-04-10T15:21:54.148578",
     "status": "completed"
    },
    "tags": []
   },
   "outputs": [
    {
     "data": {
      "text/plain": [
       "array(['2 BHK', '4 Bedroom', '3 BHK', '4 BHK', '6 Bedroom', '3 Bedroom',\n",
       "       '1 BHK', '1 RK', '1 Bedroom', '8 Bedroom', '2 Bedroom',\n",
       "       '7 Bedroom', '5 BHK', '7 BHK', '6 BHK', '5 Bedroom', '11 BHK',\n",
       "       '9 BHK', '9 Bedroom', '27 BHK', '10 Bedroom', '11 Bedroom',\n",
       "       '10 BHK', '19 BHK', '16 BHK', '43 Bedroom', '14 BHK', '8 BHK',\n",
       "       '12 Bedroom', '13 BHK', '18 Bedroom'], dtype=object)"
      ]
     },
     "execution_count": 140,
     "metadata": {},
     "output_type": "execute_result"
    }
   ],
   "source": [
    "df3['size'].unique()"
   ]
  },
  {
   "cell_type": "code",
   "execution_count": 141,
   "id": "26c4f164",
   "metadata": {
    "execution": {
     "iopub.execute_input": "2024-04-10T15:21:54.238759Z",
     "iopub.status.busy": "2024-04-10T15:21:54.238462Z",
     "iopub.status.idle": "2024-04-10T15:21:54.256052Z",
     "shell.execute_reply": "2024-04-10T15:21:54.255199Z"
    },
    "papermill": {
     "duration": 0.046292,
     "end_time": "2024-04-10T15:21:54.258000",
     "exception": false,
     "start_time": "2024-04-10T15:21:54.211708",
     "status": "completed"
    },
    "tags": []
   },
   "outputs": [],
   "source": [
    "df3['bhk'] = df3['size'].apply(lambda x: int(x.split(' ')[0]))"
   ]
  },
  {
   "cell_type": "code",
   "execution_count": 142,
   "id": "106a6b5b",
   "metadata": {
    "execution": {
     "iopub.execute_input": "2024-04-10T15:21:54.310009Z",
     "iopub.status.busy": "2024-04-10T15:21:54.309777Z",
     "iopub.status.idle": "2024-04-10T15:21:54.320865Z",
     "shell.execute_reply": "2024-04-10T15:21:54.320081Z"
    },
    "papermill": {
     "duration": 0.039384,
     "end_time": "2024-04-10T15:21:54.322852",
     "exception": false,
     "start_time": "2024-04-10T15:21:54.283468",
     "status": "completed"
    },
    "tags": []
   },
   "outputs": [
    {
     "data": {
      "text/html": [
       "<div>\n",
       "<style scoped>\n",
       "    .dataframe tbody tr th:only-of-type {\n",
       "        vertical-align: middle;\n",
       "    }\n",
       "\n",
       "    .dataframe tbody tr th {\n",
       "        vertical-align: top;\n",
       "    }\n",
       "\n",
       "    .dataframe thead th {\n",
       "        text-align: right;\n",
       "    }\n",
       "</style>\n",
       "<table border=\"1\" class=\"dataframe\">\n",
       "  <thead>\n",
       "    <tr style=\"text-align: right;\">\n",
       "      <th></th>\n",
       "      <th>location</th>\n",
       "      <th>size</th>\n",
       "      <th>total_sqft</th>\n",
       "      <th>bath</th>\n",
       "      <th>price</th>\n",
       "      <th>bhk</th>\n",
       "    </tr>\n",
       "  </thead>\n",
       "  <tbody>\n",
       "    <tr>\n",
       "      <th>0</th>\n",
       "      <td>Electronic City Phase II</td>\n",
       "      <td>2 BHK</td>\n",
       "      <td>1056</td>\n",
       "      <td>2.0</td>\n",
       "      <td>39.07</td>\n",
       "      <td>2</td>\n",
       "    </tr>\n",
       "    <tr>\n",
       "      <th>1</th>\n",
       "      <td>Chikka Tirupathi</td>\n",
       "      <td>4 Bedroom</td>\n",
       "      <td>2600</td>\n",
       "      <td>5.0</td>\n",
       "      <td>120.00</td>\n",
       "      <td>4</td>\n",
       "    </tr>\n",
       "    <tr>\n",
       "      <th>2</th>\n",
       "      <td>Uttarahalli</td>\n",
       "      <td>3 BHK</td>\n",
       "      <td>1440</td>\n",
       "      <td>2.0</td>\n",
       "      <td>62.00</td>\n",
       "      <td>3</td>\n",
       "    </tr>\n",
       "    <tr>\n",
       "      <th>3</th>\n",
       "      <td>Lingadheeranahalli</td>\n",
       "      <td>3 BHK</td>\n",
       "      <td>1521</td>\n",
       "      <td>3.0</td>\n",
       "      <td>95.00</td>\n",
       "      <td>3</td>\n",
       "    </tr>\n",
       "    <tr>\n",
       "      <th>4</th>\n",
       "      <td>Kothanur</td>\n",
       "      <td>2 BHK</td>\n",
       "      <td>1200</td>\n",
       "      <td>2.0</td>\n",
       "      <td>51.00</td>\n",
       "      <td>2</td>\n",
       "    </tr>\n",
       "  </tbody>\n",
       "</table>\n",
       "</div>"
      ],
      "text/plain": [
       "                   location       size total_sqft  bath   price  bhk\n",
       "0  Electronic City Phase II      2 BHK       1056   2.0   39.07    2\n",
       "1          Chikka Tirupathi  4 Bedroom       2600   5.0  120.00    4\n",
       "2               Uttarahalli      3 BHK       1440   2.0   62.00    3\n",
       "3        Lingadheeranahalli      3 BHK       1521   3.0   95.00    3\n",
       "4                  Kothanur      2 BHK       1200   2.0   51.00    2"
      ]
     },
     "execution_count": 142,
     "metadata": {},
     "output_type": "execute_result"
    }
   ],
   "source": [
    "df3.head()"
   ]
  },
  {
   "cell_type": "code",
   "execution_count": 143,
   "id": "cbcc1a4d",
   "metadata": {
    "execution": {
     "iopub.execute_input": "2024-04-10T15:21:54.375667Z",
     "iopub.status.busy": "2024-04-10T15:21:54.375401Z",
     "iopub.status.idle": "2024-04-10T15:21:54.382369Z",
     "shell.execute_reply": "2024-04-10T15:21:54.381584Z"
    },
    "papermill": {
     "duration": 0.035373,
     "end_time": "2024-04-10T15:21:54.384389",
     "exception": false,
     "start_time": "2024-04-10T15:21:54.349016",
     "status": "completed"
    },
    "tags": []
   },
   "outputs": [
    {
     "data": {
      "text/plain": [
       "array([ 2,  4,  3,  6,  1,  8,  7,  5, 11,  9, 27, 10, 19, 16, 43, 14, 12,\n",
       "       13, 18], dtype=int64)"
      ]
     },
     "execution_count": 143,
     "metadata": {},
     "output_type": "execute_result"
    }
   ],
   "source": [
    "df3['bhk'].unique()"
   ]
  },
  {
   "cell_type": "code",
   "execution_count": 144,
   "id": "7f8665c3",
   "metadata": {
    "execution": {
     "iopub.execute_input": "2024-04-10T15:21:54.437992Z",
     "iopub.status.busy": "2024-04-10T15:21:54.437205Z",
     "iopub.status.idle": "2024-04-10T15:21:54.447656Z",
     "shell.execute_reply": "2024-04-10T15:21:54.446852Z"
    },
    "papermill": {
     "duration": 0.038828,
     "end_time": "2024-04-10T15:21:54.449504",
     "exception": false,
     "start_time": "2024-04-10T15:21:54.410676",
     "status": "completed"
    },
    "tags": []
   },
   "outputs": [
    {
     "data": {
      "text/html": [
       "<div>\n",
       "<style scoped>\n",
       "    .dataframe tbody tr th:only-of-type {\n",
       "        vertical-align: middle;\n",
       "    }\n",
       "\n",
       "    .dataframe tbody tr th {\n",
       "        vertical-align: top;\n",
       "    }\n",
       "\n",
       "    .dataframe thead th {\n",
       "        text-align: right;\n",
       "    }\n",
       "</style>\n",
       "<table border=\"1\" class=\"dataframe\">\n",
       "  <thead>\n",
       "    <tr style=\"text-align: right;\">\n",
       "      <th></th>\n",
       "      <th>location</th>\n",
       "      <th>size</th>\n",
       "      <th>total_sqft</th>\n",
       "      <th>bath</th>\n",
       "      <th>price</th>\n",
       "      <th>bhk</th>\n",
       "    </tr>\n",
       "  </thead>\n",
       "  <tbody>\n",
       "    <tr>\n",
       "      <th>1718</th>\n",
       "      <td>2Electronic City Phase II</td>\n",
       "      <td>27 BHK</td>\n",
       "      <td>8000</td>\n",
       "      <td>27.0</td>\n",
       "      <td>230.0</td>\n",
       "      <td>27</td>\n",
       "    </tr>\n",
       "    <tr>\n",
       "      <th>4684</th>\n",
       "      <td>Munnekollal</td>\n",
       "      <td>43 Bedroom</td>\n",
       "      <td>2400</td>\n",
       "      <td>40.0</td>\n",
       "      <td>660.0</td>\n",
       "      <td>43</td>\n",
       "    </tr>\n",
       "  </tbody>\n",
       "</table>\n",
       "</div>"
      ],
      "text/plain": [
       "                       location        size total_sqft  bath  price  bhk\n",
       "1718  2Electronic City Phase II      27 BHK       8000  27.0  230.0   27\n",
       "4684                Munnekollal  43 Bedroom       2400  40.0  660.0   43"
      ]
     },
     "execution_count": 144,
     "metadata": {},
     "output_type": "execute_result"
    }
   ],
   "source": [
    "df3[df3.bhk>20]"
   ]
  },
  {
   "cell_type": "code",
   "execution_count": 145,
   "id": "df69187f",
   "metadata": {
    "execution": {
     "iopub.execute_input": "2024-04-10T15:21:54.502991Z",
     "iopub.status.busy": "2024-04-10T15:21:54.502737Z",
     "iopub.status.idle": "2024-04-10T15:21:54.509071Z",
     "shell.execute_reply": "2024-04-10T15:21:54.508309Z"
    },
    "papermill": {
     "duration": 0.034976,
     "end_time": "2024-04-10T15:21:54.510835",
     "exception": false,
     "start_time": "2024-04-10T15:21:54.475859",
     "status": "completed"
    },
    "tags": []
   },
   "outputs": [
    {
     "data": {
      "text/plain": [
       "array(['1056', '2600', '1440', ..., '1133 - 1384', '774', '4689'],\n",
       "      dtype=object)"
      ]
     },
     "execution_count": 145,
     "metadata": {},
     "output_type": "execute_result"
    }
   ],
   "source": [
    "df3.total_sqft.unique()"
   ]
  },
  {
   "cell_type": "code",
   "execution_count": 146,
   "id": "cb94d651",
   "metadata": {
    "execution": {
     "iopub.execute_input": "2024-04-10T15:21:54.565217Z",
     "iopub.status.busy": "2024-04-10T15:21:54.564986Z",
     "iopub.status.idle": "2024-04-10T15:21:54.569026Z",
     "shell.execute_reply": "2024-04-10T15:21:54.568230Z"
    },
    "papermill": {
     "duration": 0.032613,
     "end_time": "2024-04-10T15:21:54.570842",
     "exception": false,
     "start_time": "2024-04-10T15:21:54.538229",
     "status": "completed"
    },
    "tags": []
   },
   "outputs": [],
   "source": [
    "def is_float(x):\n",
    "    try:\n",
    "        float(x)\n",
    "    except:\n",
    "        return False\n",
    "    return True"
   ]
  },
  {
   "cell_type": "code",
   "execution_count": 147,
   "id": "f577db80",
   "metadata": {
    "execution": {
     "iopub.execute_input": "2024-04-10T15:21:54.624102Z",
     "iopub.status.busy": "2024-04-10T15:21:54.623847Z",
     "iopub.status.idle": "2024-04-10T15:21:54.642963Z",
     "shell.execute_reply": "2024-04-10T15:21:54.642161Z"
    },
    "papermill": {
     "duration": 0.047663,
     "end_time": "2024-04-10T15:21:54.644742",
     "exception": false,
     "start_time": "2024-04-10T15:21:54.597079",
     "status": "completed"
    },
    "tags": []
   },
   "outputs": [
    {
     "data": {
      "text/html": [
       "<div>\n",
       "<style scoped>\n",
       "    .dataframe tbody tr th:only-of-type {\n",
       "        vertical-align: middle;\n",
       "    }\n",
       "\n",
       "    .dataframe tbody tr th {\n",
       "        vertical-align: top;\n",
       "    }\n",
       "\n",
       "    .dataframe thead th {\n",
       "        text-align: right;\n",
       "    }\n",
       "</style>\n",
       "<table border=\"1\" class=\"dataframe\">\n",
       "  <thead>\n",
       "    <tr style=\"text-align: right;\">\n",
       "      <th></th>\n",
       "      <th>location</th>\n",
       "      <th>size</th>\n",
       "      <th>total_sqft</th>\n",
       "      <th>bath</th>\n",
       "      <th>price</th>\n",
       "      <th>bhk</th>\n",
       "    </tr>\n",
       "  </thead>\n",
       "  <tbody>\n",
       "    <tr>\n",
       "      <th>30</th>\n",
       "      <td>Yelahanka</td>\n",
       "      <td>4 BHK</td>\n",
       "      <td>2100 - 2850</td>\n",
       "      <td>4.0</td>\n",
       "      <td>186.000</td>\n",
       "      <td>4</td>\n",
       "    </tr>\n",
       "    <tr>\n",
       "      <th>122</th>\n",
       "      <td>Hebbal</td>\n",
       "      <td>4 BHK</td>\n",
       "      <td>3067 - 8156</td>\n",
       "      <td>4.0</td>\n",
       "      <td>477.000</td>\n",
       "      <td>4</td>\n",
       "    </tr>\n",
       "    <tr>\n",
       "      <th>137</th>\n",
       "      <td>8th Phase JP Nagar</td>\n",
       "      <td>2 BHK</td>\n",
       "      <td>1042 - 1105</td>\n",
       "      <td>2.0</td>\n",
       "      <td>54.005</td>\n",
       "      <td>2</td>\n",
       "    </tr>\n",
       "    <tr>\n",
       "      <th>165</th>\n",
       "      <td>Sarjapur</td>\n",
       "      <td>2 BHK</td>\n",
       "      <td>1145 - 1340</td>\n",
       "      <td>2.0</td>\n",
       "      <td>43.490</td>\n",
       "      <td>2</td>\n",
       "    </tr>\n",
       "    <tr>\n",
       "      <th>188</th>\n",
       "      <td>KR Puram</td>\n",
       "      <td>2 BHK</td>\n",
       "      <td>1015 - 1540</td>\n",
       "      <td>2.0</td>\n",
       "      <td>56.800</td>\n",
       "      <td>2</td>\n",
       "    </tr>\n",
       "    <tr>\n",
       "      <th>410</th>\n",
       "      <td>Kengeri</td>\n",
       "      <td>1 BHK</td>\n",
       "      <td>34.46Sq. Meter</td>\n",
       "      <td>1.0</td>\n",
       "      <td>18.500</td>\n",
       "      <td>1</td>\n",
       "    </tr>\n",
       "    <tr>\n",
       "      <th>549</th>\n",
       "      <td>Hennur Road</td>\n",
       "      <td>2 BHK</td>\n",
       "      <td>1195 - 1440</td>\n",
       "      <td>2.0</td>\n",
       "      <td>63.770</td>\n",
       "      <td>2</td>\n",
       "    </tr>\n",
       "    <tr>\n",
       "      <th>648</th>\n",
       "      <td>Arekere</td>\n",
       "      <td>9 Bedroom</td>\n",
       "      <td>4125Perch</td>\n",
       "      <td>9.0</td>\n",
       "      <td>265.000</td>\n",
       "      <td>9</td>\n",
       "    </tr>\n",
       "    <tr>\n",
       "      <th>661</th>\n",
       "      <td>Yelahanka</td>\n",
       "      <td>2 BHK</td>\n",
       "      <td>1120 - 1145</td>\n",
       "      <td>2.0</td>\n",
       "      <td>48.130</td>\n",
       "      <td>2</td>\n",
       "    </tr>\n",
       "    <tr>\n",
       "      <th>672</th>\n",
       "      <td>Bettahalsoor</td>\n",
       "      <td>4 Bedroom</td>\n",
       "      <td>3090 - 5002</td>\n",
       "      <td>4.0</td>\n",
       "      <td>445.000</td>\n",
       "      <td>4</td>\n",
       "    </tr>\n",
       "  </tbody>\n",
       "</table>\n",
       "</div>"
      ],
      "text/plain": [
       "               location       size      total_sqft  bath    price  bhk\n",
       "30            Yelahanka      4 BHK     2100 - 2850   4.0  186.000    4\n",
       "122              Hebbal      4 BHK     3067 - 8156   4.0  477.000    4\n",
       "137  8th Phase JP Nagar      2 BHK     1042 - 1105   2.0   54.005    2\n",
       "165            Sarjapur      2 BHK     1145 - 1340   2.0   43.490    2\n",
       "188            KR Puram      2 BHK     1015 - 1540   2.0   56.800    2\n",
       "410             Kengeri      1 BHK  34.46Sq. Meter   1.0   18.500    1\n",
       "549         Hennur Road      2 BHK     1195 - 1440   2.0   63.770    2\n",
       "648             Arekere  9 Bedroom       4125Perch   9.0  265.000    9\n",
       "661           Yelahanka      2 BHK     1120 - 1145   2.0   48.130    2\n",
       "672        Bettahalsoor  4 Bedroom     3090 - 5002   4.0  445.000    4"
      ]
     },
     "execution_count": 147,
     "metadata": {},
     "output_type": "execute_result"
    }
   ],
   "source": [
    "df3[~df3['total_sqft'].apply(is_float)].head(10)"
   ]
  },
  {
   "cell_type": "code",
   "execution_count": 148,
   "id": "d4c1164a",
   "metadata": {
    "execution": {
     "iopub.execute_input": "2024-04-10T15:21:54.698745Z",
     "iopub.status.busy": "2024-04-10T15:21:54.698467Z",
     "iopub.status.idle": "2024-04-10T15:21:54.702999Z",
     "shell.execute_reply": "2024-04-10T15:21:54.702189Z"
    },
    "papermill": {
     "duration": 0.033727,
     "end_time": "2024-04-10T15:21:54.704827",
     "exception": false,
     "start_time": "2024-04-10T15:21:54.671100",
     "status": "completed"
    },
    "tags": []
   },
   "outputs": [],
   "source": [
    "def convert_sqft_to_num(x):\n",
    "    tokens = x.split('-')\n",
    "    if len(tokens) == 2:\n",
    "        return (float(tokens[0])+float(tokens[1]))/2\n",
    "    try:\n",
    "        return float(x)\n",
    "    except:\n",
    "        return None"
   ]
  },
  {
   "cell_type": "code",
   "execution_count": 149,
   "id": "8bb0ea85",
   "metadata": {
    "execution": {
     "iopub.execute_input": "2024-04-10T15:21:54.758987Z",
     "iopub.status.busy": "2024-04-10T15:21:54.758740Z",
     "iopub.status.idle": "2024-04-10T15:21:54.763595Z",
     "shell.execute_reply": "2024-04-10T15:21:54.762801Z"
    },
    "papermill": {
     "duration": 0.034009,
     "end_time": "2024-04-10T15:21:54.765460",
     "exception": false,
     "start_time": "2024-04-10T15:21:54.731451",
     "status": "completed"
    },
    "tags": []
   },
   "outputs": [
    {
     "data": {
      "text/plain": [
       "2425.0"
      ]
     },
     "execution_count": 149,
     "metadata": {},
     "output_type": "execute_result"
    }
   ],
   "source": [
    "convert_sqft_to_num('2000 - 2850 ')"
   ]
  },
  {
   "cell_type": "code",
   "execution_count": 150,
   "id": "72609e99",
   "metadata": {
    "execution": {
     "iopub.execute_input": "2024-04-10T15:21:54.819684Z",
     "iopub.status.busy": "2024-04-10T15:21:54.819427Z",
     "iopub.status.idle": "2024-04-10T15:21:54.822946Z",
     "shell.execute_reply": "2024-04-10T15:21:54.822131Z"
    },
    "papermill": {
     "duration": 0.032839,
     "end_time": "2024-04-10T15:21:54.824811",
     "exception": false,
     "start_time": "2024-04-10T15:21:54.791972",
     "status": "completed"
    },
    "tags": []
   },
   "outputs": [],
   "source": [
    "convert_sqft_to_num('4125Perch')"
   ]
  },
  {
   "cell_type": "code",
   "execution_count": 151,
   "id": "1c665784",
   "metadata": {
    "execution": {
     "iopub.execute_input": "2024-04-10T15:21:54.879999Z",
     "iopub.status.busy": "2024-04-10T15:21:54.879535Z",
     "iopub.status.idle": "2024-04-10T15:21:54.902333Z",
     "shell.execute_reply": "2024-04-10T15:21:54.901546Z"
    },
    "papermill": {
     "duration": 0.052944,
     "end_time": "2024-04-10T15:21:54.904261",
     "exception": false,
     "start_time": "2024-04-10T15:21:54.851317",
     "status": "completed"
    },
    "tags": []
   },
   "outputs": [
    {
     "data": {
      "text/html": [
       "<div>\n",
       "<style scoped>\n",
       "    .dataframe tbody tr th:only-of-type {\n",
       "        vertical-align: middle;\n",
       "    }\n",
       "\n",
       "    .dataframe tbody tr th {\n",
       "        vertical-align: top;\n",
       "    }\n",
       "\n",
       "    .dataframe thead th {\n",
       "        text-align: right;\n",
       "    }\n",
       "</style>\n",
       "<table border=\"1\" class=\"dataframe\">\n",
       "  <thead>\n",
       "    <tr style=\"text-align: right;\">\n",
       "      <th></th>\n",
       "      <th>location</th>\n",
       "      <th>size</th>\n",
       "      <th>total_sqft</th>\n",
       "      <th>bath</th>\n",
       "      <th>price</th>\n",
       "      <th>bhk</th>\n",
       "    </tr>\n",
       "  </thead>\n",
       "  <tbody>\n",
       "    <tr>\n",
       "      <th>0</th>\n",
       "      <td>Electronic City Phase II</td>\n",
       "      <td>2 BHK</td>\n",
       "      <td>1056.0</td>\n",
       "      <td>2.0</td>\n",
       "      <td>39.07</td>\n",
       "      <td>2</td>\n",
       "    </tr>\n",
       "    <tr>\n",
       "      <th>1</th>\n",
       "      <td>Chikka Tirupathi</td>\n",
       "      <td>4 Bedroom</td>\n",
       "      <td>2600.0</td>\n",
       "      <td>5.0</td>\n",
       "      <td>120.00</td>\n",
       "      <td>4</td>\n",
       "    </tr>\n",
       "    <tr>\n",
       "      <th>2</th>\n",
       "      <td>Uttarahalli</td>\n",
       "      <td>3 BHK</td>\n",
       "      <td>1440.0</td>\n",
       "      <td>2.0</td>\n",
       "      <td>62.00</td>\n",
       "      <td>3</td>\n",
       "    </tr>\n",
       "    <tr>\n",
       "      <th>3</th>\n",
       "      <td>Lingadheeranahalli</td>\n",
       "      <td>3 BHK</td>\n",
       "      <td>1521.0</td>\n",
       "      <td>3.0</td>\n",
       "      <td>95.00</td>\n",
       "      <td>3</td>\n",
       "    </tr>\n",
       "    <tr>\n",
       "      <th>4</th>\n",
       "      <td>Kothanur</td>\n",
       "      <td>2 BHK</td>\n",
       "      <td>1200.0</td>\n",
       "      <td>2.0</td>\n",
       "      <td>51.00</td>\n",
       "      <td>2</td>\n",
       "    </tr>\n",
       "  </tbody>\n",
       "</table>\n",
       "</div>"
      ],
      "text/plain": [
       "                   location       size  total_sqft  bath   price  bhk\n",
       "0  Electronic City Phase II      2 BHK      1056.0   2.0   39.07    2\n",
       "1          Chikka Tirupathi  4 Bedroom      2600.0   5.0  120.00    4\n",
       "2               Uttarahalli      3 BHK      1440.0   2.0   62.00    3\n",
       "3        Lingadheeranahalli      3 BHK      1521.0   3.0   95.00    3\n",
       "4                  Kothanur      2 BHK      1200.0   2.0   51.00    2"
      ]
     },
     "execution_count": 151,
     "metadata": {},
     "output_type": "execute_result"
    }
   ],
   "source": [
    "df4  = df3.copy()\n",
    "df4['total_sqft'] = df4['total_sqft'].apply(convert_sqft_to_num)\n",
    "df4.head()"
   ]
  },
  {
   "cell_type": "code",
   "execution_count": 152,
   "id": "079a42ca",
   "metadata": {
    "execution": {
     "iopub.execute_input": "2024-04-10T15:21:54.959296Z",
     "iopub.status.busy": "2024-04-10T15:21:54.959065Z",
     "iopub.status.idle": "2024-04-10T15:21:54.965031Z",
     "shell.execute_reply": "2024-04-10T15:21:54.964223Z"
    },
    "papermill": {
     "duration": 0.035229,
     "end_time": "2024-04-10T15:21:54.966839",
     "exception": false,
     "start_time": "2024-04-10T15:21:54.931610",
     "status": "completed"
    },
    "tags": []
   },
   "outputs": [
    {
     "data": {
      "text/plain": [
       "location      Yelahanka\n",
       "size              4 BHK\n",
       "total_sqft       2475.0\n",
       "bath                4.0\n",
       "price             186.0\n",
       "bhk                   4\n",
       "Name: 30, dtype: object"
      ]
     },
     "execution_count": 152,
     "metadata": {},
     "output_type": "execute_result"
    }
   ],
   "source": [
    "#checking by indexes\n",
    "df4.loc[30]"
   ]
  },
  {
   "cell_type": "markdown",
   "id": "64d450c9",
   "metadata": {
    "papermill": {
     "duration": 0.026818,
     "end_time": "2024-04-10T15:21:55.020766",
     "exception": false,
     "start_time": "2024-04-10T15:21:54.993948",
     "status": "completed"
    },
    "tags": []
   },
   "source": [
    "## Feature Engineering and Dimensional Reduction \n"
   ]
  },
  {
   "cell_type": "code",
   "execution_count": 153,
   "id": "810e242f",
   "metadata": {
    "execution": {
     "iopub.execute_input": "2024-04-10T15:21:55.076508Z",
     "iopub.status.busy": "2024-04-10T15:21:55.076236Z",
     "iopub.status.idle": "2024-04-10T15:21:55.081359Z",
     "shell.execute_reply": "2024-04-10T15:21:55.080688Z"
    },
    "papermill": {
     "duration": 0.035596,
     "end_time": "2024-04-10T15:21:55.083236",
     "exception": false,
     "start_time": "2024-04-10T15:21:55.047640",
     "status": "completed"
    },
    "tags": []
   },
   "outputs": [],
   "source": [
    "df5= df4.copy()"
   ]
  },
  {
   "cell_type": "code",
   "execution_count": 154,
   "id": "d6fc1fd2",
   "metadata": {
    "execution": {
     "iopub.execute_input": "2024-04-10T15:21:55.138734Z",
     "iopub.status.busy": "2024-04-10T15:21:55.138465Z",
     "iopub.status.idle": "2024-04-10T15:21:55.150330Z",
     "shell.execute_reply": "2024-04-10T15:21:55.149489Z"
    },
    "papermill": {
     "duration": 0.041439,
     "end_time": "2024-04-10T15:21:55.152209",
     "exception": false,
     "start_time": "2024-04-10T15:21:55.110770",
     "status": "completed"
    },
    "tags": []
   },
   "outputs": [
    {
     "data": {
      "text/html": [
       "<div>\n",
       "<style scoped>\n",
       "    .dataframe tbody tr th:only-of-type {\n",
       "        vertical-align: middle;\n",
       "    }\n",
       "\n",
       "    .dataframe tbody tr th {\n",
       "        vertical-align: top;\n",
       "    }\n",
       "\n",
       "    .dataframe thead th {\n",
       "        text-align: right;\n",
       "    }\n",
       "</style>\n",
       "<table border=\"1\" class=\"dataframe\">\n",
       "  <thead>\n",
       "    <tr style=\"text-align: right;\">\n",
       "      <th></th>\n",
       "      <th>location</th>\n",
       "      <th>size</th>\n",
       "      <th>total_sqft</th>\n",
       "      <th>bath</th>\n",
       "      <th>price</th>\n",
       "      <th>bhk</th>\n",
       "    </tr>\n",
       "  </thead>\n",
       "  <tbody>\n",
       "    <tr>\n",
       "      <th>0</th>\n",
       "      <td>Electronic City Phase II</td>\n",
       "      <td>2 BHK</td>\n",
       "      <td>1056.0</td>\n",
       "      <td>2.0</td>\n",
       "      <td>39.07</td>\n",
       "      <td>2</td>\n",
       "    </tr>\n",
       "    <tr>\n",
       "      <th>1</th>\n",
       "      <td>Chikka Tirupathi</td>\n",
       "      <td>4 Bedroom</td>\n",
       "      <td>2600.0</td>\n",
       "      <td>5.0</td>\n",
       "      <td>120.00</td>\n",
       "      <td>4</td>\n",
       "    </tr>\n",
       "    <tr>\n",
       "      <th>2</th>\n",
       "      <td>Uttarahalli</td>\n",
       "      <td>3 BHK</td>\n",
       "      <td>1440.0</td>\n",
       "      <td>2.0</td>\n",
       "      <td>62.00</td>\n",
       "      <td>3</td>\n",
       "    </tr>\n",
       "    <tr>\n",
       "      <th>3</th>\n",
       "      <td>Lingadheeranahalli</td>\n",
       "      <td>3 BHK</td>\n",
       "      <td>1521.0</td>\n",
       "      <td>3.0</td>\n",
       "      <td>95.00</td>\n",
       "      <td>3</td>\n",
       "    </tr>\n",
       "    <tr>\n",
       "      <th>4</th>\n",
       "      <td>Kothanur</td>\n",
       "      <td>2 BHK</td>\n",
       "      <td>1200.0</td>\n",
       "      <td>2.0</td>\n",
       "      <td>51.00</td>\n",
       "      <td>2</td>\n",
       "    </tr>\n",
       "  </tbody>\n",
       "</table>\n",
       "</div>"
      ],
      "text/plain": [
       "                   location       size  total_sqft  bath   price  bhk\n",
       "0  Electronic City Phase II      2 BHK      1056.0   2.0   39.07    2\n",
       "1          Chikka Tirupathi  4 Bedroom      2600.0   5.0  120.00    4\n",
       "2               Uttarahalli      3 BHK      1440.0   2.0   62.00    3\n",
       "3        Lingadheeranahalli      3 BHK      1521.0   3.0   95.00    3\n",
       "4                  Kothanur      2 BHK      1200.0   2.0   51.00    2"
      ]
     },
     "execution_count": 154,
     "metadata": {},
     "output_type": "execute_result"
    }
   ],
   "source": [
    "df5.head()"
   ]
  },
  {
   "cell_type": "code",
   "execution_count": 155,
   "id": "906d76d8",
   "metadata": {
    "execution": {
     "iopub.execute_input": "2024-04-10T15:21:55.208037Z",
     "iopub.status.busy": "2024-04-10T15:21:55.207321Z",
     "iopub.status.idle": "2024-04-10T15:21:55.221042Z",
     "shell.execute_reply": "2024-04-10T15:21:55.220195Z"
    },
    "papermill": {
     "duration": 0.043479,
     "end_time": "2024-04-10T15:21:55.222879",
     "exception": false,
     "start_time": "2024-04-10T15:21:55.179400",
     "status": "completed"
    },
    "tags": []
   },
   "outputs": [
    {
     "data": {
      "text/html": [
       "<div>\n",
       "<style scoped>\n",
       "    .dataframe tbody tr th:only-of-type {\n",
       "        vertical-align: middle;\n",
       "    }\n",
       "\n",
       "    .dataframe tbody tr th {\n",
       "        vertical-align: top;\n",
       "    }\n",
       "\n",
       "    .dataframe thead th {\n",
       "        text-align: right;\n",
       "    }\n",
       "</style>\n",
       "<table border=\"1\" class=\"dataframe\">\n",
       "  <thead>\n",
       "    <tr style=\"text-align: right;\">\n",
       "      <th></th>\n",
       "      <th>location</th>\n",
       "      <th>size</th>\n",
       "      <th>total_sqft</th>\n",
       "      <th>bath</th>\n",
       "      <th>price</th>\n",
       "      <th>bhk</th>\n",
       "      <th>price_per_sqft</th>\n",
       "    </tr>\n",
       "  </thead>\n",
       "  <tbody>\n",
       "    <tr>\n",
       "      <th>0</th>\n",
       "      <td>Electronic City Phase II</td>\n",
       "      <td>2 BHK</td>\n",
       "      <td>1056.0</td>\n",
       "      <td>2.0</td>\n",
       "      <td>39.07</td>\n",
       "      <td>2</td>\n",
       "      <td>3699.810606</td>\n",
       "    </tr>\n",
       "    <tr>\n",
       "      <th>1</th>\n",
       "      <td>Chikka Tirupathi</td>\n",
       "      <td>4 Bedroom</td>\n",
       "      <td>2600.0</td>\n",
       "      <td>5.0</td>\n",
       "      <td>120.00</td>\n",
       "      <td>4</td>\n",
       "      <td>4615.384615</td>\n",
       "    </tr>\n",
       "    <tr>\n",
       "      <th>2</th>\n",
       "      <td>Uttarahalli</td>\n",
       "      <td>3 BHK</td>\n",
       "      <td>1440.0</td>\n",
       "      <td>2.0</td>\n",
       "      <td>62.00</td>\n",
       "      <td>3</td>\n",
       "      <td>4305.555556</td>\n",
       "    </tr>\n",
       "    <tr>\n",
       "      <th>3</th>\n",
       "      <td>Lingadheeranahalli</td>\n",
       "      <td>3 BHK</td>\n",
       "      <td>1521.0</td>\n",
       "      <td>3.0</td>\n",
       "      <td>95.00</td>\n",
       "      <td>3</td>\n",
       "      <td>6245.890861</td>\n",
       "    </tr>\n",
       "    <tr>\n",
       "      <th>4</th>\n",
       "      <td>Kothanur</td>\n",
       "      <td>2 BHK</td>\n",
       "      <td>1200.0</td>\n",
       "      <td>2.0</td>\n",
       "      <td>51.00</td>\n",
       "      <td>2</td>\n",
       "      <td>4250.000000</td>\n",
       "    </tr>\n",
       "  </tbody>\n",
       "</table>\n",
       "</div>"
      ],
      "text/plain": [
       "                   location       size  total_sqft  bath   price  bhk  \\\n",
       "0  Electronic City Phase II      2 BHK      1056.0   2.0   39.07    2   \n",
       "1          Chikka Tirupathi  4 Bedroom      2600.0   5.0  120.00    4   \n",
       "2               Uttarahalli      3 BHK      1440.0   2.0   62.00    3   \n",
       "3        Lingadheeranahalli      3 BHK      1521.0   3.0   95.00    3   \n",
       "4                  Kothanur      2 BHK      1200.0   2.0   51.00    2   \n",
       "\n",
       "   price_per_sqft  \n",
       "0     3699.810606  \n",
       "1     4615.384615  \n",
       "2     4305.555556  \n",
       "3     6245.890861  \n",
       "4     4250.000000  "
      ]
     },
     "execution_count": 155,
     "metadata": {},
     "output_type": "execute_result"
    }
   ],
   "source": [
    "df5['price_per_sqft']  = df5['price']*100000/df5['total_sqft']\n",
    "df5.head()"
   ]
  },
  {
   "cell_type": "code",
   "execution_count": 156,
   "id": "b6c4064f",
   "metadata": {
    "execution": {
     "iopub.execute_input": "2024-04-10T15:21:55.279942Z",
     "iopub.status.busy": "2024-04-10T15:21:55.279395Z",
     "iopub.status.idle": "2024-04-10T15:21:55.286966Z",
     "shell.execute_reply": "2024-04-10T15:21:55.286058Z"
    },
    "papermill": {
     "duration": 0.038698,
     "end_time": "2024-04-10T15:21:55.289062",
     "exception": false,
     "start_time": "2024-04-10T15:21:55.250364",
     "status": "completed"
    },
    "tags": []
   },
   "outputs": [
    {
     "data": {
      "text/plain": [
       "1304"
      ]
     },
     "execution_count": 156,
     "metadata": {},
     "output_type": "execute_result"
    }
   ],
   "source": [
    "len(df5['location'].unique())"
   ]
  },
  {
   "cell_type": "markdown",
   "id": "e1e54b43",
   "metadata": {
    "papermill": {
     "duration": 0.031129,
     "end_time": "2024-04-10T15:21:55.352824",
     "exception": false,
     "start_time": "2024-04-10T15:21:55.321695",
     "status": "completed"
    },
    "tags": []
   },
   "source": [
    "##### nomor unik lokasi terlalu tinggi dan kutukan atau masalah dimensinya"
   ]
  },
  {
   "cell_type": "markdown",
   "id": "48286b31",
   "metadata": {
    "papermill": {
     "duration": 0.027127,
     "end_time": "2024-04-10T15:21:55.408745",
     "exception": false,
     "start_time": "2024-04-10T15:21:55.381618",
     "status": "completed"
    },
    "tags": []
   },
   "source": [
    "mungkin ada beberapa lokasi unik yang memiliki dua atau satu titik data"
   ]
  },
  {
   "cell_type": "code",
   "execution_count": 157,
   "id": "869784e9",
   "metadata": {
    "execution": {
     "iopub.execute_input": "2024-04-10T15:21:55.464811Z",
     "iopub.status.busy": "2024-04-10T15:21:55.464538Z",
     "iopub.status.idle": "2024-04-10T15:21:55.482422Z",
     "shell.execute_reply": "2024-04-10T15:21:55.481662Z"
    },
    "papermill": {
     "duration": 0.048099,
     "end_time": "2024-04-10T15:21:55.484349",
     "exception": false,
     "start_time": "2024-04-10T15:21:55.436250",
     "status": "completed"
    },
    "tags": []
   },
   "outputs": [
    {
     "data": {
      "text/plain": [
       "location\n",
       "Whitefield               535\n",
       "Sarjapur  Road           392\n",
       "Electronic City          304\n",
       "Kanakpura Road           266\n",
       "Thanisandra              236\n",
       "                        ... \n",
       "1 Giri Nagar               1\n",
       "Kanakapura Road,           1\n",
       "Kanakapura main  Road      1\n",
       "Karnataka Shabarimala      1\n",
       "whitefiled                 1\n",
       "Name: location, Length: 1293, dtype: int64"
      ]
     },
     "execution_count": 157,
     "metadata": {},
     "output_type": "execute_result"
    }
   ],
   "source": [
    "df5.location = df5.location.apply(lambda x: x.strip())\n",
    "location_stats = df5.groupby('location')['location'].agg('count').sort_values(ascending=False)\n",
    "location_stats"
   ]
  },
  {
   "cell_type": "markdown",
   "id": "11304ceb",
   "metadata": {
    "papermill": {
     "duration": 0.031912,
     "end_time": "2024-04-10T15:21:55.553659",
     "exception": false,
     "start_time": "2024-04-10T15:21:55.521747",
     "status": "completed"
    },
    "tags": []
   },
   "source": [
    "kolom-kolom yang memiliki kurang dari 10 titik data, sebut saja lokasi lain"
   ]
  },
  {
   "cell_type": "code",
   "execution_count": 158,
   "id": "8179551b",
   "metadata": {
    "execution": {
     "iopub.execute_input": "2024-04-10T15:21:55.613203Z",
     "iopub.status.busy": "2024-04-10T15:21:55.612440Z",
     "iopub.status.idle": "2024-04-10T15:21:55.619777Z",
     "shell.execute_reply": "2024-04-10T15:21:55.618874Z"
    },
    "papermill": {
     "duration": 0.040593,
     "end_time": "2024-04-10T15:21:55.622038",
     "exception": false,
     "start_time": "2024-04-10T15:21:55.581445",
     "status": "completed"
    },
    "tags": []
   },
   "outputs": [
    {
     "data": {
      "text/plain": [
       "1052"
      ]
     },
     "execution_count": 158,
     "metadata": {},
     "output_type": "execute_result"
    }
   ],
   "source": [
    "len(location_stats[location_stats<=10])\n"
   ]
  },
  {
   "cell_type": "code",
   "execution_count": 159,
   "id": "9611771d",
   "metadata": {
    "execution": {
     "iopub.execute_input": "2024-04-10T15:21:55.692994Z",
     "iopub.status.busy": "2024-04-10T15:21:55.692378Z",
     "iopub.status.idle": "2024-04-10T15:21:55.700686Z",
     "shell.execute_reply": "2024-04-10T15:21:55.699849Z"
    },
    "papermill": {
     "duration": 0.04498,
     "end_time": "2024-04-10T15:21:55.702737",
     "exception": false,
     "start_time": "2024-04-10T15:21:55.657757",
     "status": "completed"
    },
    "tags": []
   },
   "outputs": [
    {
     "data": {
      "text/plain": [
       "location\n",
       "Basapura                 10\n",
       "1st Block Koramangala    10\n",
       "Gunjur Palya             10\n",
       "Kalkere                  10\n",
       "Sector 1 HSR Layout      10\n",
       "                         ..\n",
       "1 Giri Nagar              1\n",
       "Kanakapura Road,          1\n",
       "Kanakapura main  Road     1\n",
       "Karnataka Shabarimala     1\n",
       "whitefiled                1\n",
       "Name: location, Length: 1052, dtype: int64"
      ]
     },
     "execution_count": 159,
     "metadata": {},
     "output_type": "execute_result"
    }
   ],
   "source": [
    "location_stats_less_than_10 = location_stats[location_stats<=10]\n",
    "location_stats_less_than_10"
   ]
  },
  {
   "cell_type": "markdown",
   "id": "77988bde",
   "metadata": {
    "papermill": {
     "duration": 0.029693,
     "end_time": "2024-04-10T15:21:55.762587",
     "exception": false,
     "start_time": "2024-04-10T15:21:55.732894",
     "status": "completed"
    },
    "tags": []
   },
   "source": [
    "#### lets call them other locations"
   ]
  },
  {
   "cell_type": "code",
   "execution_count": 160,
   "id": "5ba6d94f",
   "metadata": {
    "execution": {
     "iopub.execute_input": "2024-04-10T15:21:55.819952Z",
     "iopub.status.busy": "2024-04-10T15:21:55.819689Z",
     "iopub.status.idle": "2024-04-10T15:21:55.826310Z",
     "shell.execute_reply": "2024-04-10T15:21:55.825501Z"
    },
    "papermill": {
     "duration": 0.03761,
     "end_time": "2024-04-10T15:21:55.828300",
     "exception": false,
     "start_time": "2024-04-10T15:21:55.790690",
     "status": "completed"
    },
    "tags": []
   },
   "outputs": [
    {
     "data": {
      "text/plain": [
       "1293"
      ]
     },
     "execution_count": 160,
     "metadata": {},
     "output_type": "execute_result"
    }
   ],
   "source": [
    "len(df5.location.unique())"
   ]
  },
  {
   "cell_type": "code",
   "execution_count": 161,
   "id": "fb7e4345",
   "metadata": {
    "execution": {
     "iopub.execute_input": "2024-04-10T15:21:55.890919Z",
     "iopub.status.busy": "2024-04-10T15:21:55.890559Z",
     "iopub.status.idle": "2024-04-10T15:21:55.939374Z",
     "shell.execute_reply": "2024-04-10T15:21:55.938564Z"
    },
    "papermill": {
     "duration": 0.084592,
     "end_time": "2024-04-10T15:21:55.941335",
     "exception": false,
     "start_time": "2024-04-10T15:21:55.856743",
     "status": "completed"
    },
    "tags": []
   },
   "outputs": [
    {
     "data": {
      "text/plain": [
       "242"
      ]
     },
     "execution_count": 161,
     "metadata": {},
     "output_type": "execute_result"
    }
   ],
   "source": [
    "df5.location = df5.location.apply(lambda x: 'other' if x in location_stats_less_than_10 else x)\n",
    "len(df5.location.unique())"
   ]
  },
  {
   "cell_type": "markdown",
   "id": "a27cf819",
   "metadata": {
    "papermill": {
     "duration": 0.027929,
     "end_time": "2024-04-10T15:21:55.997635",
     "exception": false,
     "start_time": "2024-04-10T15:21:55.969706",
     "status": "completed"
    },
    "tags": []
   },
   "source": [
    "## Penghapusan Outlier "
   ]
  },
  {
   "cell_type": "code",
   "execution_count": 162,
   "id": "87ddfaa1",
   "metadata": {
    "execution": {
     "iopub.execute_input": "2024-04-10T15:21:56.063498Z",
     "iopub.status.busy": "2024-04-10T15:21:56.063184Z",
     "iopub.status.idle": "2024-04-10T15:21:56.077899Z",
     "shell.execute_reply": "2024-04-10T15:21:56.076994Z"
    },
    "papermill": {
     "duration": 0.054341,
     "end_time": "2024-04-10T15:21:56.080204",
     "exception": false,
     "start_time": "2024-04-10T15:21:56.025863",
     "status": "completed"
    },
    "tags": []
   },
   "outputs": [
    {
     "data": {
      "text/html": [
       "<div>\n",
       "<style scoped>\n",
       "    .dataframe tbody tr th:only-of-type {\n",
       "        vertical-align: middle;\n",
       "    }\n",
       "\n",
       "    .dataframe tbody tr th {\n",
       "        vertical-align: top;\n",
       "    }\n",
       "\n",
       "    .dataframe thead th {\n",
       "        text-align: right;\n",
       "    }\n",
       "</style>\n",
       "<table border=\"1\" class=\"dataframe\">\n",
       "  <thead>\n",
       "    <tr style=\"text-align: right;\">\n",
       "      <th></th>\n",
       "      <th>location</th>\n",
       "      <th>size</th>\n",
       "      <th>total_sqft</th>\n",
       "      <th>bath</th>\n",
       "      <th>price</th>\n",
       "      <th>bhk</th>\n",
       "      <th>price_per_sqft</th>\n",
       "    </tr>\n",
       "  </thead>\n",
       "  <tbody>\n",
       "    <tr>\n",
       "      <th>0</th>\n",
       "      <td>Electronic City Phase II</td>\n",
       "      <td>2 BHK</td>\n",
       "      <td>1056.0</td>\n",
       "      <td>2.0</td>\n",
       "      <td>39.07</td>\n",
       "      <td>2</td>\n",
       "      <td>3699.810606</td>\n",
       "    </tr>\n",
       "    <tr>\n",
       "      <th>1</th>\n",
       "      <td>Chikka Tirupathi</td>\n",
       "      <td>4 Bedroom</td>\n",
       "      <td>2600.0</td>\n",
       "      <td>5.0</td>\n",
       "      <td>120.00</td>\n",
       "      <td>4</td>\n",
       "      <td>4615.384615</td>\n",
       "    </tr>\n",
       "    <tr>\n",
       "      <th>2</th>\n",
       "      <td>Uttarahalli</td>\n",
       "      <td>3 BHK</td>\n",
       "      <td>1440.0</td>\n",
       "      <td>2.0</td>\n",
       "      <td>62.00</td>\n",
       "      <td>3</td>\n",
       "      <td>4305.555556</td>\n",
       "    </tr>\n",
       "    <tr>\n",
       "      <th>3</th>\n",
       "      <td>Lingadheeranahalli</td>\n",
       "      <td>3 BHK</td>\n",
       "      <td>1521.0</td>\n",
       "      <td>3.0</td>\n",
       "      <td>95.00</td>\n",
       "      <td>3</td>\n",
       "      <td>6245.890861</td>\n",
       "    </tr>\n",
       "    <tr>\n",
       "      <th>4</th>\n",
       "      <td>Kothanur</td>\n",
       "      <td>2 BHK</td>\n",
       "      <td>1200.0</td>\n",
       "      <td>2.0</td>\n",
       "      <td>51.00</td>\n",
       "      <td>2</td>\n",
       "      <td>4250.000000</td>\n",
       "    </tr>\n",
       "    <tr>\n",
       "      <th>5</th>\n",
       "      <td>Whitefield</td>\n",
       "      <td>2 BHK</td>\n",
       "      <td>1170.0</td>\n",
       "      <td>2.0</td>\n",
       "      <td>38.00</td>\n",
       "      <td>2</td>\n",
       "      <td>3247.863248</td>\n",
       "    </tr>\n",
       "    <tr>\n",
       "      <th>6</th>\n",
       "      <td>Old Airport Road</td>\n",
       "      <td>4 BHK</td>\n",
       "      <td>2732.0</td>\n",
       "      <td>4.0</td>\n",
       "      <td>204.00</td>\n",
       "      <td>4</td>\n",
       "      <td>7467.057101</td>\n",
       "    </tr>\n",
       "    <tr>\n",
       "      <th>7</th>\n",
       "      <td>Rajaji Nagar</td>\n",
       "      <td>4 BHK</td>\n",
       "      <td>3300.0</td>\n",
       "      <td>4.0</td>\n",
       "      <td>600.00</td>\n",
       "      <td>4</td>\n",
       "      <td>18181.818182</td>\n",
       "    </tr>\n",
       "    <tr>\n",
       "      <th>8</th>\n",
       "      <td>Marathahalli</td>\n",
       "      <td>3 BHK</td>\n",
       "      <td>1310.0</td>\n",
       "      <td>3.0</td>\n",
       "      <td>63.25</td>\n",
       "      <td>3</td>\n",
       "      <td>4828.244275</td>\n",
       "    </tr>\n",
       "    <tr>\n",
       "      <th>9</th>\n",
       "      <td>other</td>\n",
       "      <td>6 Bedroom</td>\n",
       "      <td>1020.0</td>\n",
       "      <td>6.0</td>\n",
       "      <td>370.00</td>\n",
       "      <td>6</td>\n",
       "      <td>36274.509804</td>\n",
       "    </tr>\n",
       "  </tbody>\n",
       "</table>\n",
       "</div>"
      ],
      "text/plain": [
       "                   location       size  total_sqft  bath   price  bhk  \\\n",
       "0  Electronic City Phase II      2 BHK      1056.0   2.0   39.07    2   \n",
       "1          Chikka Tirupathi  4 Bedroom      2600.0   5.0  120.00    4   \n",
       "2               Uttarahalli      3 BHK      1440.0   2.0   62.00    3   \n",
       "3        Lingadheeranahalli      3 BHK      1521.0   3.0   95.00    3   \n",
       "4                  Kothanur      2 BHK      1200.0   2.0   51.00    2   \n",
       "5                Whitefield      2 BHK      1170.0   2.0   38.00    2   \n",
       "6          Old Airport Road      4 BHK      2732.0   4.0  204.00    4   \n",
       "7              Rajaji Nagar      4 BHK      3300.0   4.0  600.00    4   \n",
       "8              Marathahalli      3 BHK      1310.0   3.0   63.25    3   \n",
       "9                     other  6 Bedroom      1020.0   6.0  370.00    6   \n",
       "\n",
       "   price_per_sqft  \n",
       "0     3699.810606  \n",
       "1     4615.384615  \n",
       "2     4305.555556  \n",
       "3     6245.890861  \n",
       "4     4250.000000  \n",
       "5     3247.863248  \n",
       "6     7467.057101  \n",
       "7    18181.818182  \n",
       "8     4828.244275  \n",
       "9    36274.509804  "
      ]
     },
     "execution_count": 162,
     "metadata": {},
     "output_type": "execute_result"
    }
   ],
   "source": [
    "df5.head(10)"
   ]
  },
  {
   "cell_type": "code",
   "execution_count": 163,
   "id": "38b982e2",
   "metadata": {
    "execution": {
     "iopub.execute_input": "2024-04-10T15:21:56.142871Z",
     "iopub.status.busy": "2024-04-10T15:21:56.142404Z",
     "iopub.status.idle": "2024-04-10T15:21:56.147737Z",
     "shell.execute_reply": "2024-04-10T15:21:56.146857Z"
    },
    "papermill": {
     "duration": 0.037083,
     "end_time": "2024-04-10T15:21:56.149556",
     "exception": false,
     "start_time": "2024-04-10T15:21:56.112473",
     "status": "completed"
    },
    "tags": []
   },
   "outputs": [
    {
     "data": {
      "text/plain": [
       "(13246, 7)"
      ]
     },
     "execution_count": 163,
     "metadata": {},
     "output_type": "execute_result"
    }
   ],
   "source": [
    "df5.shape"
   ]
  },
  {
   "cell_type": "markdown",
   "id": "0e070a92",
   "metadata": {
    "papermill": {
     "duration": 0.028896,
     "end_time": "2024-04-10T15:21:56.208297",
     "exception": false,
     "start_time": "2024-04-10T15:21:56.179401",
     "status": "completed"
    },
    "tags": []
   },
   "source": [
    "## Penanganan Outlier "
   ]
  },
  {
   "cell_type": "code",
   "execution_count": 164,
   "id": "52eaeea7",
   "metadata": {
    "execution": {
     "iopub.execute_input": "2024-04-10T15:21:56.266860Z",
     "iopub.status.busy": "2024-04-10T15:21:56.266559Z",
     "iopub.status.idle": "2024-04-10T15:21:56.281171Z",
     "shell.execute_reply": "2024-04-10T15:21:56.280395Z"
    },
    "papermill": {
     "duration": 0.045893,
     "end_time": "2024-04-10T15:21:56.283021",
     "exception": false,
     "start_time": "2024-04-10T15:21:56.237128",
     "status": "completed"
    },
    "tags": []
   },
   "outputs": [
    {
     "data": {
      "text/html": [
       "<div>\n",
       "<style scoped>\n",
       "    .dataframe tbody tr th:only-of-type {\n",
       "        vertical-align: middle;\n",
       "    }\n",
       "\n",
       "    .dataframe tbody tr th {\n",
       "        vertical-align: top;\n",
       "    }\n",
       "\n",
       "    .dataframe thead th {\n",
       "        text-align: right;\n",
       "    }\n",
       "</style>\n",
       "<table border=\"1\" class=\"dataframe\">\n",
       "  <thead>\n",
       "    <tr style=\"text-align: right;\">\n",
       "      <th></th>\n",
       "      <th>location</th>\n",
       "      <th>size</th>\n",
       "      <th>total_sqft</th>\n",
       "      <th>bath</th>\n",
       "      <th>price</th>\n",
       "      <th>bhk</th>\n",
       "      <th>price_per_sqft</th>\n",
       "    </tr>\n",
       "  </thead>\n",
       "  <tbody>\n",
       "    <tr>\n",
       "      <th>0</th>\n",
       "      <td>Electronic City Phase II</td>\n",
       "      <td>2 BHK</td>\n",
       "      <td>1056.0</td>\n",
       "      <td>2.0</td>\n",
       "      <td>39.07</td>\n",
       "      <td>2</td>\n",
       "      <td>3699.810606</td>\n",
       "    </tr>\n",
       "    <tr>\n",
       "      <th>1</th>\n",
       "      <td>Chikka Tirupathi</td>\n",
       "      <td>4 Bedroom</td>\n",
       "      <td>2600.0</td>\n",
       "      <td>5.0</td>\n",
       "      <td>120.00</td>\n",
       "      <td>4</td>\n",
       "      <td>4615.384615</td>\n",
       "    </tr>\n",
       "    <tr>\n",
       "      <th>2</th>\n",
       "      <td>Uttarahalli</td>\n",
       "      <td>3 BHK</td>\n",
       "      <td>1440.0</td>\n",
       "      <td>2.0</td>\n",
       "      <td>62.00</td>\n",
       "      <td>3</td>\n",
       "      <td>4305.555556</td>\n",
       "    </tr>\n",
       "    <tr>\n",
       "      <th>3</th>\n",
       "      <td>Lingadheeranahalli</td>\n",
       "      <td>3 BHK</td>\n",
       "      <td>1521.0</td>\n",
       "      <td>3.0</td>\n",
       "      <td>95.00</td>\n",
       "      <td>3</td>\n",
       "      <td>6245.890861</td>\n",
       "    </tr>\n",
       "    <tr>\n",
       "      <th>4</th>\n",
       "      <td>Kothanur</td>\n",
       "      <td>2 BHK</td>\n",
       "      <td>1200.0</td>\n",
       "      <td>2.0</td>\n",
       "      <td>51.00</td>\n",
       "      <td>2</td>\n",
       "      <td>4250.000000</td>\n",
       "    </tr>\n",
       "    <tr>\n",
       "      <th>5</th>\n",
       "      <td>Whitefield</td>\n",
       "      <td>2 BHK</td>\n",
       "      <td>1170.0</td>\n",
       "      <td>2.0</td>\n",
       "      <td>38.00</td>\n",
       "      <td>2</td>\n",
       "      <td>3247.863248</td>\n",
       "    </tr>\n",
       "    <tr>\n",
       "      <th>6</th>\n",
       "      <td>Old Airport Road</td>\n",
       "      <td>4 BHK</td>\n",
       "      <td>2732.0</td>\n",
       "      <td>4.0</td>\n",
       "      <td>204.00</td>\n",
       "      <td>4</td>\n",
       "      <td>7467.057101</td>\n",
       "    </tr>\n",
       "    <tr>\n",
       "      <th>7</th>\n",
       "      <td>Rajaji Nagar</td>\n",
       "      <td>4 BHK</td>\n",
       "      <td>3300.0</td>\n",
       "      <td>4.0</td>\n",
       "      <td>600.00</td>\n",
       "      <td>4</td>\n",
       "      <td>18181.818182</td>\n",
       "    </tr>\n",
       "    <tr>\n",
       "      <th>8</th>\n",
       "      <td>Marathahalli</td>\n",
       "      <td>3 BHK</td>\n",
       "      <td>1310.0</td>\n",
       "      <td>3.0</td>\n",
       "      <td>63.25</td>\n",
       "      <td>3</td>\n",
       "      <td>4828.244275</td>\n",
       "    </tr>\n",
       "    <tr>\n",
       "      <th>9</th>\n",
       "      <td>other</td>\n",
       "      <td>6 Bedroom</td>\n",
       "      <td>1020.0</td>\n",
       "      <td>6.0</td>\n",
       "      <td>370.00</td>\n",
       "      <td>6</td>\n",
       "      <td>36274.509804</td>\n",
       "    </tr>\n",
       "  </tbody>\n",
       "</table>\n",
       "</div>"
      ],
      "text/plain": [
       "                   location       size  total_sqft  bath   price  bhk  \\\n",
       "0  Electronic City Phase II      2 BHK      1056.0   2.0   39.07    2   \n",
       "1          Chikka Tirupathi  4 Bedroom      2600.0   5.0  120.00    4   \n",
       "2               Uttarahalli      3 BHK      1440.0   2.0   62.00    3   \n",
       "3        Lingadheeranahalli      3 BHK      1521.0   3.0   95.00    3   \n",
       "4                  Kothanur      2 BHK      1200.0   2.0   51.00    2   \n",
       "5                Whitefield      2 BHK      1170.0   2.0   38.00    2   \n",
       "6          Old Airport Road      4 BHK      2732.0   4.0  204.00    4   \n",
       "7              Rajaji Nagar      4 BHK      3300.0   4.0  600.00    4   \n",
       "8              Marathahalli      3 BHK      1310.0   3.0   63.25    3   \n",
       "9                     other  6 Bedroom      1020.0   6.0  370.00    6   \n",
       "\n",
       "   price_per_sqft  \n",
       "0     3699.810606  \n",
       "1     4615.384615  \n",
       "2     4305.555556  \n",
       "3     6245.890861  \n",
       "4     4250.000000  \n",
       "5     3247.863248  \n",
       "6     7467.057101  \n",
       "7    18181.818182  \n",
       "8     4828.244275  \n",
       "9    36274.509804  "
      ]
     },
     "execution_count": 164,
     "metadata": {},
     "output_type": "execute_result"
    }
   ],
   "source": [
    "df5.head(10)"
   ]
  },
  {
   "cell_type": "code",
   "execution_count": 165,
   "id": "512c37d8",
   "metadata": {
    "execution": {
     "iopub.execute_input": "2024-04-10T15:21:56.342429Z",
     "iopub.status.busy": "2024-04-10T15:21:56.342178Z",
     "iopub.status.idle": "2024-04-10T15:21:56.347363Z",
     "shell.execute_reply": "2024-04-10T15:21:56.346583Z"
    },
    "papermill": {
     "duration": 0.036771,
     "end_time": "2024-04-10T15:21:56.349316",
     "exception": false,
     "start_time": "2024-04-10T15:21:56.312545",
     "status": "completed"
    },
    "tags": []
   },
   "outputs": [
    {
     "data": {
      "text/plain": [
       "(13246, 7)"
      ]
     },
     "execution_count": 165,
     "metadata": {},
     "output_type": "execute_result"
    }
   ],
   "source": [
    "df5.shape"
   ]
  },
  {
   "cell_type": "code",
   "execution_count": 166,
   "id": "19ffbffd",
   "metadata": {
    "execution": {
     "iopub.execute_input": "2024-04-10T15:21:56.409086Z",
     "iopub.status.busy": "2024-04-10T15:21:56.408836Z",
     "iopub.status.idle": "2024-04-10T15:21:56.416304Z",
     "shell.execute_reply": "2024-04-10T15:21:56.415470Z"
    },
    "papermill": {
     "duration": 0.039359,
     "end_time": "2024-04-10T15:21:56.418287",
     "exception": false,
     "start_time": "2024-04-10T15:21:56.378928",
     "status": "completed"
    },
    "tags": []
   },
   "outputs": [
    {
     "data": {
      "text/plain": [
       "(12502, 7)"
      ]
     },
     "execution_count": 166,
     "metadata": {},
     "output_type": "execute_result"
    }
   ],
   "source": [
    "df6 = df5[~(df5.total_sqft/df5.bhk<300)]\n",
    "df6.shape"
   ]
  },
  {
   "cell_type": "code",
   "execution_count": 167,
   "id": "b09664fb",
   "metadata": {
    "execution": {
     "iopub.execute_input": "2024-04-10T15:21:56.477681Z",
     "iopub.status.busy": "2024-04-10T15:21:56.477407Z",
     "iopub.status.idle": "2024-04-10T15:21:56.488001Z",
     "shell.execute_reply": "2024-04-10T15:21:56.487291Z"
    },
    "papermill": {
     "duration": 0.042538,
     "end_time": "2024-04-10T15:21:56.489781",
     "exception": false,
     "start_time": "2024-04-10T15:21:56.447243",
     "status": "completed"
    },
    "tags": []
   },
   "outputs": [
    {
     "data": {
      "text/plain": [
       "count     12456.000000\n",
       "mean       6308.502826\n",
       "std        4168.127339\n",
       "min         267.829813\n",
       "25%        4210.526316\n",
       "50%        5294.117647\n",
       "75%        6916.666667\n",
       "max      176470.588235\n",
       "Name: price_per_sqft, dtype: float64"
      ]
     },
     "execution_count": 167,
     "metadata": {},
     "output_type": "execute_result"
    }
   ],
   "source": [
    "df6.price_per_sqft.describe()"
   ]
  },
  {
   "cell_type": "markdown",
   "id": "f0554841",
   "metadata": {
    "papermill": {
     "duration": 0.030081,
     "end_time": "2024-04-10T15:21:56.550303",
     "exception": false,
     "start_time": "2024-04-10T15:21:56.520222",
     "status": "completed"
    },
    "tags": []
   },
   "source": [
    "The max and min are dependent on location but we hope that the data has the normal std and mean "
   ]
  },
  {
   "cell_type": "markdown",
   "id": "5759e052",
   "metadata": {
    "papermill": {
     "duration": 0.028967,
     "end_time": "2024-04-10T15:21:56.608559",
     "exception": false,
     "start_time": "2024-04-10T15:21:56.579592",
     "status": "completed"
    },
    "tags": []
   },
   "source": [
    "## Mari kita cari outlier berdasarkan lokasi\n",
    " "
   ]
  },
  {
   "cell_type": "code",
   "execution_count": 168,
   "id": "fa546c03",
   "metadata": {
    "execution": {
     "iopub.execute_input": "2024-04-10T15:21:56.668419Z",
     "iopub.status.busy": "2024-04-10T15:21:56.668140Z",
     "iopub.status.idle": "2024-04-10T15:21:57.033489Z",
     "shell.execute_reply": "2024-04-10T15:21:57.032574Z"
    },
    "papermill": {
     "duration": 0.397692,
     "end_time": "2024-04-10T15:21:57.035568",
     "exception": false,
     "start_time": "2024-04-10T15:21:56.637876",
     "status": "completed"
    },
    "tags": []
   },
   "outputs": [
    {
     "data": {
      "text/plain": [
       "(10241, 7)"
      ]
     },
     "execution_count": 168,
     "metadata": {},
     "output_type": "execute_result"
    }
   ],
   "source": [
    "def remove_pps_outliers(df):\n",
    "    df_out = pd.DataFrame()\n",
    "    for key, subdf in df.groupby ('location'):\n",
    "        mean = np.mean(subdf.price_per_sqft)\n",
    "        standerd_deviation = np.std(subdf.price_per_sqft)\n",
    "        reduced_df = subdf[(subdf.price_per_sqft>(mean - standerd_deviation)) & (subdf.price_per_sqft<=(mean + standerd_deviation))]\n",
    "        df_out = pd.concat([df_out, reduced_df], ignore_index=True)\n",
    "    return df_out\n",
    "\n",
    "df7 = remove_pps_outliers(df6)\n",
    "df7.shape"
   ]
  },
  {
   "cell_type": "markdown",
   "id": "8e7bf993",
   "metadata": {
    "papermill": {
     "duration": 0.031186,
     "end_time": "2024-04-10T15:21:57.098503",
     "exception": false,
     "start_time": "2024-04-10T15:21:57.067317",
     "status": "completed"
    },
    "tags": []
   },
   "source": [
    "mari periksa apakah harga rumah berbeda sementara kamarnya sama"
   ]
  },
  {
   "cell_type": "code",
   "execution_count": 169,
   "id": "e1b64501",
   "metadata": {
    "execution": {
     "iopub.execute_input": "2024-04-10T15:21:57.158500Z",
     "iopub.status.busy": "2024-04-10T15:21:57.158207Z",
     "iopub.status.idle": "2024-04-10T15:21:57.585815Z",
     "shell.execute_reply": "2024-04-10T15:21:57.584948Z"
    },
    "papermill": {
     "duration": 0.459733,
     "end_time": "2024-04-10T15:21:57.587696",
     "exception": false,
     "start_time": "2024-04-10T15:21:57.127963",
     "status": "completed"
    },
    "tags": []
   },
   "outputs": [
    {
     "data": {
      "image/png": "[encoded data removed]",
      "text/plain": [
       "<Figure size 1500x1000 with 1 Axes>"
      ]
     },
     "metadata": {},
     "output_type": "display_data"
    }
   ],
   "source": [
    "def plot_scatter_chart(df,location):\n",
    "    bhk2 = df[(df.location==location) & (df.bhk == 2)]\n",
    "    bhk3 = df[(df.location==location) & (df.bhk == 3)]\n",
    "    matplotlib.rcParams['figure.figsize'] = (15,10)\n",
    "    plt.scatter(bhk2.total_sqft,bhk2.price, color ='blue', label ='2 BHK', s = 50)\n",
    "    plt.scatter (bhk3.total_sqft,bhk3.price, marker= '+', label = '3 BHK' , s = 50)\n",
    "    plt.xlabel('Total Square Feet Area')\n",
    "    plt.ylabel('Price Per Square Feet')\n",
    "    plt.title('Location')\n",
    "    plt.legend()\n",
    "\n",
    "    \n",
    "plot_scatter_chart(df7, 'Rajaji Nagar')\n"
   ]
  },
  {
   "cell_type": "code",
   "execution_count": 170,
   "id": "e13439be",
   "metadata": {
    "execution": {
     "iopub.execute_input": "2024-04-10T15:21:57.649999Z",
     "iopub.status.busy": "2024-04-10T15:21:57.649418Z",
     "iopub.status.idle": "2024-04-10T15:21:58.283460Z",
     "shell.execute_reply": "2024-04-10T15:21:58.282705Z"
    },
    "papermill": {
     "duration": 0.668029,
     "end_time": "2024-04-10T15:21:58.286223",
     "exception": false,
     "start_time": "2024-04-10T15:21:57.618194",
     "status": "completed"
    },
    "tags": []
   },
   "outputs": [
    {
     "data": {
      "image/png": "[encoded data removed]",
      "text/plain": [
       "<Figure size 1200x800 with 1 Axes>"
      ]
     },
     "metadata": {},
     "output_type": "display_data"
    }
   ],
   "source": [
    "import matplotlib.pyplot as plt\n",
    "import seaborn as sns\n",
    "\n",
    "def plot_scatter_chart(df, location):\n",
    "    bhk2 = df[(df.location==location) & (df.bhk == 2)]\n",
    "    bhk3 = df[(df.location==location) & (df.bhk == 3)]\n",
    "    \n",
    "    plt.figure(figsize=(12, 8))  # Adjust figure size\n",
    "    \n",
    "    # Scatter plot for 2 BHK\n",
    "    plt.scatter(bhk2.total_sqft, bhk2.price, color='blue', label='2 BHK', s=60, alpha=0.7, edgecolors='k')\n",
    "    \n",
    "    # Scatter plot for 3 BHK with different marker style\n",
    "    plt.scatter(bhk3.total_sqft, bhk3.price, marker='x', color='red', label='3 BHK', s=60, alpha=0.7, edgecolors='k')\n",
    "    \n",
    "    # Add trend lines\n",
    "    sns.regplot(x=bhk2.total_sqft, y=bhk2.price, scatter=False, color='blue', label='Trendline 2 BHK')\n",
    "    sns.regplot(x=bhk3.total_sqft, y=bhk3.price, scatter=False, color='red', label='Trendline 3 BHK')\n",
    "    \n",
    "    # Annotate median prices\n",
    "    plt.annotate('Median Price 2 BHK', xy=(bhk2.total_sqft.median(), bhk2.price.median()), xytext=(bhk2.total_sqft.median()+200, bhk2.price.median()),\n",
    "                 arrowprops=dict(facecolor='blue', shrink=0.05))\n",
    "    plt.annotate('Median Price 3 BHK', xy=(bhk3.total_sqft.median(), bhk3.price.median()), xytext=(bhk3.total_sqft.median()+200, bhk3.price.median()),\n",
    "                 arrowprops=dict(facecolor='red', shrink=0.05))\n",
    "    \n",
    "    plt.xlabel('Total Square Feet Area')\n",
    "    plt.ylabel('Price Per Square Feet')\n",
    "    plt.title('Price vs Total Square Feet Area in {}'.format(location), fontsize=16)  # Custom title font size\n",
    "    plt.legend(fontsize=12)  # Custom legend font size\n",
    "    plt.grid(True, linestyle='--')  # Add gridlines with dashed style\n",
    "    plt.gca().set_facecolor('#f9f9f9')  # Change background color\n",
    "    \n",
    "    plt.show()\n",
    "\n",
    "# Example usage\n",
    "plot_scatter_chart(df7, 'Rajaji Nagar')\n"
   ]
  },
  {
   "cell_type": "markdown",
   "id": "09c32573",
   "metadata": {
    "papermill": {
     "duration": 0.031823,
     "end_time": "2024-04-10T15:21:58.350261",
     "exception": false,
     "start_time": "2024-04-10T15:21:58.318438",
     "status": "completed"
    },
    "tags": []
   },
   "source": [
    "## Untuk Lokasi Hebbal "
   ]
  },
  {
   "cell_type": "code",
   "execution_count": 171,
   "id": "72e1246f",
   "metadata": {
    "execution": {
     "iopub.execute_input": "2024-04-10T15:21:58.414847Z",
     "iopub.status.busy": "2024-04-10T15:21:58.414513Z",
     "iopub.status.idle": "2024-04-10T15:21:59.193516Z",
     "shell.execute_reply": "2024-04-10T15:21:59.192678Z"
    },
    "papermill": {
     "duration": 0.81368,
     "end_time": "2024-04-10T15:21:59.195641",
     "exception": false,
     "start_time": "2024-04-10T15:21:58.381961",
     "status": "completed"
    },
    "tags": []
   },
   "outputs": [
    {
     "data": {
      "image/png": "[encoded data removed]",
      "text/plain": [
       "<Figure size 2000x1000 with 1 Axes>"
      ]
     },
     "metadata": {},
     "output_type": "display_data"
    },
    {
     "data": {
      "text/plain": [
       "<Figure size 1500x1000 with 0 Axes>"
      ]
     },
     "metadata": {},
     "output_type": "display_data"
    }
   ],
   "source": [
    "import matplotlib.pyplot as plt\n",
    "import seaborn as sns\n",
    "import numpy as np\n",
    "\n",
    "def plot_scatter_chart(df, location, sample_size=1000):\n",
    "    bhk2 = df[(df.location==location) & (df.bhk == 2)]\n",
    "    bhk3 = df[(df.location==location) & (df.bhk == 3)]\n",
    "    \n",
    "    # Filter out extreme outliers\n",
    "    bhk2_filtered = bhk2[bhk2.price <= np.percentile(bhk2.price, 99)]  # Filter out top 1% of prices\n",
    "    bhk3_filtered = bhk3[bhk3.price <= np.percentile(bhk3.price, 99)]  # Filter out top 1% of prices\n",
    "    \n",
    "    # Sample data to reduce the number of data points\n",
    "    bhk2_sample = bhk2_filtered.sample(n=min(sample_size, len(bhk2_filtered)))  # Added random_state for reproducibility\n",
    "    bhk3_sample = bhk3_filtered.sample(n=min(sample_size, len(bhk3_filtered)))  # Added random_state for reproducibility\n",
    "    \n",
    "    # Set background color\n",
    "    plt.figure(figsize=(20, 10))  # Reduced figure size\n",
    "    \n",
    "    # Scatter plots for 2 BHK and 3 BHK with reduced marker size\n",
    "    plt.scatter(bhk2_sample.total_sqft, bhk2_sample.price, color='blue', label='2 BHK', s=10)  # Reduced marker size\n",
    "    plt.scatter(bhk3_sample.total_sqft, bhk3_sample.price, marker='+', label='3 BHK', s=10)  # Reduced marker size\n",
    "    \n",
    "    # Trend lines\n",
    "    sns.regplot(x=bhk2_sample.total_sqft, y=bhk2_sample.price, scatter=False, color='blue')\n",
    "\n",
    "    sns.regplot(x=bhk3_sample.total_sqft, y=bhk3_sample.price, scatter=False, color='orange')\n",
    "    \n",
    "    # Annotations for median prices with reduced font size\n",
    "    plt.annotate('Median of 2 BHK', xy=(np.median(bhk2_sample.total_sqft), np.median(bhk2_sample.price)), xytext=(np.median(bhk2_sample.total_sqft)+5, np.median(bhk2_sample.price)+50),\n",
    "                 arrowprops=dict(facecolor='blue', shrink=0.01), fontsize=8)  # Reduced font size\n",
    "    plt.annotate('Median of 3 BHK', xy=(np.median(bhk3_sample.total_sqft), np.median(bhk3_sample.price)), xytext=(np.median(bhk3_sample.total_sqft)+5, np.median(bhk3_sample.price)-50),\n",
    "                 arrowprops=dict(facecolor='orange', shrink=0.01), fontsize=8)  # Reduced font size\n",
    "    \n",
    "    # plt.xlim(500,1500) \n",
    "    # plt.ylim(2,10)\n",
    "    plt.xlabel('Total Square Feet Area')\n",
    "    plt.ylabel('Price Per Square Feet')\n",
    "    plt.title('Price vs Total Square Feet Area in {}'.format(location))\n",
    "    plt.legend()\n",
    "    plt.grid(False)\n",
    "    plt.gca().set_facecolor('#f2f2f2')  # Set background color\n",
    "    # plt.yscale('log')\n",
    "    plt.show()\n",
    "    \n",
    "    \n",
    "    \n",
    "    \n",
    "# Example usage with reduced sample size\n",
    "plot_scatter_chart(df7, 'Hebbal', sample_size=1000)\n"
   ]
  },
  {
   "cell_type": "markdown",
   "id": "a0f3ce2a",
   "metadata": {
    "papermill": {
     "duration": 0.032825,
     "end_time": "2024-04-10T15:21:59.262359",
     "exception": false,
     "start_time": "2024-04-10T15:21:59.229534",
     "status": "completed"
    },
    "tags": []
   },
   "source": [
    "Dengan melihat plot, dapat dengan mudah ditentukan bahwa untuk beberapa area kaki persegi harga untuk apartemen 2 kamar tidur lebih tinggi daripada apartemen 3 kamar tidur dan coba tebak ini adalah outlier dan kita harus menghapusnya.\n",
    "\n",
    "Kita juga harus menghapus properti di mana untuk lokasi yang sama, harga (misalnya) apartemen 3 kamar tidur lebih rendah daripada apartemen 2 kamar tidur (dengan luas kaki persegi yang sama). yang akan kita lakukan adalah untuk lokasi tertentu, kita akan membuat kamus statistik per bhk yaitu:\n",
    "\n",
    "\n",
    "\n",
    "<b>Sekarang kita dapat menghapus apartemen 2 BHK yang harga per kaki perseginya kurang dari harga rata-rata per kaki persegi apartemen 1 BHK</b>"
   ]
  },
  {
   "cell_type": "code",
   "execution_count": 172,
   "id": "b8750485",
   "metadata": {
    "execution": {
     "iopub.execute_input": "2024-04-10T15:21:59.329871Z",
     "iopub.status.busy": "2024-04-10T15:21:59.329566Z",
     "iopub.status.idle": "2024-04-10T15:21:59.771914Z",
     "shell.execute_reply": "2024-04-10T15:21:59.771035Z"
    },
    "papermill": {
     "duration": 0.478274,
     "end_time": "2024-04-10T15:21:59.773837",
     "exception": false,
     "start_time": "2024-04-10T15:21:59.295563",
     "status": "completed"
    },
    "tags": []
   },
   "outputs": [
    {
     "data": {
      "text/plain": [
       "(10241, 7)"
      ]
     },
     "execution_count": 172,
     "metadata": {},
     "output_type": "execute_result"
    }
   ],
   "source": [
    "def remove_bhk_outliers(df):\n",
    "    exclude_indices = np.array([])\n",
    "    for location, location_df in df.groupby('location'):\n",
    "        bhk_stats = {}\n",
    "        for bhk, bhk_df in location_df.groupby('bhk'):\n",
    "            bhk_stats ['bhk'] = {\n",
    "                'mean': np.mean(bhk_df.price_per_sqft),\n",
    "                'std': np.std(bhk_df.price_per_sqft),\n",
    "                'count': bhk_df.shape[0]\n",
    "            }\n",
    "        for bhk, bhk_df in location_df.groupby('bhk'):\n",
    "            stats = bhk_stats.get(bhk-1)\n",
    "            if stats and stats['count']>5:\n",
    "                exclude_indices= np.append(exclude_indices, bhk_df[bhk_df.price_per_sqft<(stats['means'])].index.values)\n",
    "    return df.drop(exclude_indices, axis = 'index')\n",
    "\n",
    "df8 = remove_bhk_outliers(df7)\n",
    "df8.shape"
   ]
  },
  {
   "cell_type": "code",
   "execution_count": 173,
   "id": "029ab404",
   "metadata": {
    "execution": {
     "iopub.execute_input": "2024-04-10T15:21:59.842711Z",
     "iopub.status.busy": "2024-04-10T15:21:59.842415Z",
     "iopub.status.idle": "2024-04-10T15:22:00.549361Z",
     "shell.execute_reply": "2024-04-10T15:22:00.548486Z"
    },
    "papermill": {
     "duration": 0.743517,
     "end_time": "2024-04-10T15:22:00.551258",
     "exception": false,
     "start_time": "2024-04-10T15:21:59.807741",
     "status": "completed"
    },
    "tags": []
   },
   "outputs": [
    {
     "data": {
      "image/png": "[encoded data removed]",
      "text/plain": [
       "<Figure size 2000x1000 with 1 Axes>"
      ]
     },
     "metadata": {},
     "output_type": "display_data"
    },
    {
     "data": {
      "text/plain": [
       "<Figure size 1500x1000 with 0 Axes>"
      ]
     },
     "metadata": {},
     "output_type": "display_data"
    }
   ],
   "source": [
    "plot_scatter_chart(df8, 'Hebbal')"
   ]
  },
  {
   "cell_type": "code",
   "execution_count": 174,
   "id": "e76fe3ef",
   "metadata": {
    "execution": {
     "iopub.execute_input": "2024-04-10T15:22:00.622260Z",
     "iopub.status.busy": "2024-04-10T15:22:00.621975Z",
     "iopub.status.idle": "2024-04-10T15:22:00.890436Z",
     "shell.execute_reply": "2024-04-10T15:22:00.889634Z"
    },
    "papermill": {
     "duration": 0.306031,
     "end_time": "2024-04-10T15:22:00.892459",
     "exception": false,
     "start_time": "2024-04-10T15:22:00.586428",
     "status": "completed"
    },
    "tags": []
   },
   "outputs": [
    {
     "data": {
      "text/plain": [
       "Text(0, 0.5, 'Count')"
      ]
     },
     "execution_count": 174,
     "metadata": {},
     "output_type": "execute_result"
    },
    {
     "data": {
      "image/png": "[encoded data removed]",
      "text/plain": [
       "<Figure size 1000x600 with 1 Axes>"
      ]
     },
     "metadata": {},
     "output_type": "display_data"
    }
   ],
   "source": [
    "matplotlib.rcParams['figure.figsize'] = (10,6)\n",
    "\n",
    "plt.hist(df8.price_per_sqft,rwidth = 0.8)\n",
    "plt.gca().set_facecolor('#ffff')\n",
    "plt.xlabel('Price Per Square Feet')\n",
    "plt.ylabel('Count')\n",
    "\n"
   ]
  },
  {
   "cell_type": "code",
   "execution_count": 175,
   "id": "95cd6fc1",
   "metadata": {
    "execution": {
     "iopub.execute_input": "2024-04-10T15:22:00.964046Z",
     "iopub.status.busy": "2024-04-10T15:22:00.963783Z",
     "iopub.status.idle": "2024-04-10T15:22:00.970117Z",
     "shell.execute_reply": "2024-04-10T15:22:00.969279Z"
    },
    "papermill": {
     "duration": 0.04396,
     "end_time": "2024-04-10T15:22:00.972003",
     "exception": false,
     "start_time": "2024-04-10T15:22:00.928043",
     "status": "completed"
    },
    "tags": []
   },
   "outputs": [
    {
     "data": {
      "text/plain": [
       "array([ 4.,  3.,  2.,  5.,  8.,  1.,  6.,  7.,  9., 12., 16., 13.])"
      ]
     },
     "execution_count": 175,
     "metadata": {},
     "output_type": "execute_result"
    }
   ],
   "source": [
    "df8.bath.unique()"
   ]
  },
  {
   "cell_type": "code",
   "execution_count": 176,
   "id": "9cea98df",
   "metadata": {
    "execution": {
     "iopub.execute_input": "2024-04-10T15:22:01.044875Z",
     "iopub.status.busy": "2024-04-10T15:22:01.044347Z",
     "iopub.status.idle": "2024-04-10T15:22:01.058806Z",
     "shell.execute_reply": "2024-04-10T15:22:01.057921Z"
    },
    "papermill": {
     "duration": 0.053074,
     "end_time": "2024-04-10T15:22:01.060617",
     "exception": false,
     "start_time": "2024-04-10T15:22:01.007543",
     "status": "completed"
    },
    "tags": []
   },
   "outputs": [
    {
     "data": {
      "text/html": [
       "<div>\n",
       "<style scoped>\n",
       "    .dataframe tbody tr th:only-of-type {\n",
       "        vertical-align: middle;\n",
       "    }\n",
       "\n",
       "    .dataframe tbody tr th {\n",
       "        vertical-align: top;\n",
       "    }\n",
       "\n",
       "    .dataframe thead th {\n",
       "        text-align: right;\n",
       "    }\n",
       "</style>\n",
       "<table border=\"1\" class=\"dataframe\">\n",
       "  <thead>\n",
       "    <tr style=\"text-align: right;\">\n",
       "      <th></th>\n",
       "      <th>location</th>\n",
       "      <th>size</th>\n",
       "      <th>total_sqft</th>\n",
       "      <th>bath</th>\n",
       "      <th>price</th>\n",
       "      <th>bhk</th>\n",
       "      <th>price_per_sqft</th>\n",
       "    </tr>\n",
       "  </thead>\n",
       "  <tbody>\n",
       "    <tr>\n",
       "      <th>5277</th>\n",
       "      <td>Neeladri Nagar</td>\n",
       "      <td>10 BHK</td>\n",
       "      <td>4000.0</td>\n",
       "      <td>12.0</td>\n",
       "      <td>160.0</td>\n",
       "      <td>10</td>\n",
       "      <td>4000.000000</td>\n",
       "    </tr>\n",
       "    <tr>\n",
       "      <th>8486</th>\n",
       "      <td>other</td>\n",
       "      <td>10 BHK</td>\n",
       "      <td>12000.0</td>\n",
       "      <td>12.0</td>\n",
       "      <td>525.0</td>\n",
       "      <td>10</td>\n",
       "      <td>4375.000000</td>\n",
       "    </tr>\n",
       "    <tr>\n",
       "      <th>8575</th>\n",
       "      <td>other</td>\n",
       "      <td>16 BHK</td>\n",
       "      <td>10000.0</td>\n",
       "      <td>16.0</td>\n",
       "      <td>550.0</td>\n",
       "      <td>16</td>\n",
       "      <td>5500.000000</td>\n",
       "    </tr>\n",
       "    <tr>\n",
       "      <th>9308</th>\n",
       "      <td>other</td>\n",
       "      <td>11 BHK</td>\n",
       "      <td>6000.0</td>\n",
       "      <td>12.0</td>\n",
       "      <td>150.0</td>\n",
       "      <td>11</td>\n",
       "      <td>2500.000000</td>\n",
       "    </tr>\n",
       "    <tr>\n",
       "      <th>9639</th>\n",
       "      <td>other</td>\n",
       "      <td>13 BHK</td>\n",
       "      <td>5425.0</td>\n",
       "      <td>13.0</td>\n",
       "      <td>275.0</td>\n",
       "      <td>13</td>\n",
       "      <td>5069.124424</td>\n",
       "    </tr>\n",
       "  </tbody>\n",
       "</table>\n",
       "</div>"
      ],
      "text/plain": [
       "            location    size  total_sqft  bath  price  bhk  price_per_sqft\n",
       "5277  Neeladri Nagar  10 BHK      4000.0  12.0  160.0   10     4000.000000\n",
       "8486           other  10 BHK     12000.0  12.0  525.0   10     4375.000000\n",
       "8575           other  16 BHK     10000.0  16.0  550.0   16     5500.000000\n",
       "9308           other  11 BHK      6000.0  12.0  150.0   11     2500.000000\n",
       "9639           other  13 BHK      5425.0  13.0  275.0   13     5069.124424"
      ]
     },
     "execution_count": 176,
     "metadata": {},
     "output_type": "execute_result"
    }
   ],
   "source": [
    "df8[df8.bath>10]"
   ]
  },
  {
   "cell_type": "code",
   "execution_count": 177,
   "id": "513ed014",
   "metadata": {
    "execution": {
     "iopub.execute_input": "2024-04-10T15:22:01.133757Z",
     "iopub.status.busy": "2024-04-10T15:22:01.133035Z",
     "iopub.status.idle": "2024-04-10T15:22:01.409328Z",
     "shell.execute_reply": "2024-04-10T15:22:01.408491Z"
    },
    "papermill": {
     "duration": 0.315062,
     "end_time": "2024-04-10T15:22:01.411321",
     "exception": false,
     "start_time": "2024-04-10T15:22:01.096259",
     "status": "completed"
    },
    "tags": []
   },
   "outputs": [
    {
     "data": {
      "text/plain": [
       "Text(0, 0.5, 'Count')"
      ]
     },
     "execution_count": 177,
     "metadata": {},
     "output_type": "execute_result"
    },
    {
     "data": {
      "image/png": "[encoded data removed]",
      "text/plain": [
       "<Figure size 1000x600 with 1 Axes>"
      ]
     },
     "metadata": {},
     "output_type": "display_data"
    }
   ],
   "source": [
    "plt.hist(df8.bath, rwidth=0.8)\n",
    "plt.xlabel('Number of Bathroom')\n",
    "plt.ylabel('Count')\n"
   ]
  },
  {
   "cell_type": "code",
   "execution_count": 178,
   "id": "88fffb4c",
   "metadata": {
    "execution": {
     "iopub.execute_input": "2024-04-10T15:22:01.484848Z",
     "iopub.status.busy": "2024-04-10T15:22:01.484166Z",
     "iopub.status.idle": "2024-04-10T15:22:01.493737Z",
     "shell.execute_reply": "2024-04-10T15:22:01.492911Z"
    },
    "papermill": {
     "duration": 0.048339,
     "end_time": "2024-04-10T15:22:01.495699",
     "exception": false,
     "start_time": "2024-04-10T15:22:01.447360",
     "status": "completed"
    },
    "tags": []
   },
   "outputs": [
    {
     "data": {
      "text/html": [
       "<div>\n",
       "<style scoped>\n",
       "    .dataframe tbody tr th:only-of-type {\n",
       "        vertical-align: middle;\n",
       "    }\n",
       "\n",
       "    .dataframe tbody tr th {\n",
       "        vertical-align: top;\n",
       "    }\n",
       "\n",
       "    .dataframe thead th {\n",
       "        text-align: right;\n",
       "    }\n",
       "</style>\n",
       "<table border=\"1\" class=\"dataframe\">\n",
       "  <thead>\n",
       "    <tr style=\"text-align: right;\">\n",
       "      <th></th>\n",
       "      <th>location</th>\n",
       "      <th>size</th>\n",
       "      <th>total_sqft</th>\n",
       "      <th>bath</th>\n",
       "      <th>price</th>\n",
       "      <th>bhk</th>\n",
       "      <th>price_per_sqft</th>\n",
       "    </tr>\n",
       "  </thead>\n",
       "  <tbody>\n",
       "  </tbody>\n",
       "</table>\n",
       "</div>"
      ],
      "text/plain": [
       "Empty DataFrame\n",
       "Columns: [location, size, total_sqft, bath, price, bhk, price_per_sqft]\n",
       "Index: []"
      ]
     },
     "execution_count": 178,
     "metadata": {},
     "output_type": "execute_result"
    }
   ],
   "source": [
    "df8[df8.bath>df8.bath+2]"
   ]
  },
  {
   "cell_type": "code",
   "execution_count": 179,
   "id": "1a5b84e9",
   "metadata": {
    "execution": {
     "iopub.execute_input": "2024-04-10T15:22:01.570093Z",
     "iopub.status.busy": "2024-04-10T15:22:01.569447Z",
     "iopub.status.idle": "2024-04-10T15:22:01.574871Z",
     "shell.execute_reply": "2024-04-10T15:22:01.574044Z"
    },
    "papermill": {
     "duration": 0.045045,
     "end_time": "2024-04-10T15:22:01.576703",
     "exception": false,
     "start_time": "2024-04-10T15:22:01.531658",
     "status": "completed"
    },
    "tags": []
   },
   "outputs": [
    {
     "data": {
      "text/plain": [
       "(10241, 7)"
      ]
     },
     "execution_count": 179,
     "metadata": {},
     "output_type": "execute_result"
    }
   ],
   "source": [
    "df8.shape"
   ]
  },
  {
   "cell_type": "code",
   "execution_count": 180,
   "id": "21eab140",
   "metadata": {
    "execution": {
     "iopub.execute_input": "2024-04-10T15:22:01.650645Z",
     "iopub.status.busy": "2024-04-10T15:22:01.650108Z",
     "iopub.status.idle": "2024-04-10T15:22:01.657369Z",
     "shell.execute_reply": "2024-04-10T15:22:01.656570Z"
    },
    "papermill": {
     "duration": 0.046364,
     "end_time": "2024-04-10T15:22:01.659116",
     "exception": false,
     "start_time": "2024-04-10T15:22:01.612752",
     "status": "completed"
    },
    "tags": []
   },
   "outputs": [
    {
     "data": {
      "text/plain": [
       "(10241, 7)"
      ]
     },
     "execution_count": 180,
     "metadata": {},
     "output_type": "execute_result"
    }
   ],
   "source": [
    "df9 = df8[df8.bath<df8.bath+2]\n",
    "df9.shape"
   ]
  },
  {
   "cell_type": "code",
   "execution_count": 181,
   "id": "91f9fa47",
   "metadata": {
    "execution": {
     "iopub.execute_input": "2024-04-10T15:22:01.732433Z",
     "iopub.status.busy": "2024-04-10T15:22:01.732113Z",
     "iopub.status.idle": "2024-04-10T15:22:01.744350Z",
     "shell.execute_reply": "2024-04-10T15:22:01.743550Z"
    },
    "papermill": {
     "duration": 0.051097,
     "end_time": "2024-04-10T15:22:01.746166",
     "exception": false,
     "start_time": "2024-04-10T15:22:01.695069",
     "status": "completed"
    },
    "tags": []
   },
   "outputs": [
    {
     "data": {
      "text/html": [
       "<div>\n",
       "<style scoped>\n",
       "    .dataframe tbody tr th:only-of-type {\n",
       "        vertical-align: middle;\n",
       "    }\n",
       "\n",
       "    .dataframe tbody tr th {\n",
       "        vertical-align: top;\n",
       "    }\n",
       "\n",
       "    .dataframe thead th {\n",
       "        text-align: right;\n",
       "    }\n",
       "</style>\n",
       "<table border=\"1\" class=\"dataframe\">\n",
       "  <thead>\n",
       "    <tr style=\"text-align: right;\">\n",
       "      <th></th>\n",
       "      <th>location</th>\n",
       "      <th>size</th>\n",
       "      <th>total_sqft</th>\n",
       "      <th>bath</th>\n",
       "      <th>price</th>\n",
       "      <th>bhk</th>\n",
       "      <th>price_per_sqft</th>\n",
       "    </tr>\n",
       "  </thead>\n",
       "  <tbody>\n",
       "    <tr>\n",
       "      <th>0</th>\n",
       "      <td>1st Block Jayanagar</td>\n",
       "      <td>4 BHK</td>\n",
       "      <td>2850.0</td>\n",
       "      <td>4.0</td>\n",
       "      <td>428.0</td>\n",
       "      <td>4</td>\n",
       "      <td>15017.543860</td>\n",
       "    </tr>\n",
       "    <tr>\n",
       "      <th>1</th>\n",
       "      <td>1st Block Jayanagar</td>\n",
       "      <td>3 BHK</td>\n",
       "      <td>1630.0</td>\n",
       "      <td>3.0</td>\n",
       "      <td>194.0</td>\n",
       "      <td>3</td>\n",
       "      <td>11901.840491</td>\n",
       "    </tr>\n",
       "    <tr>\n",
       "      <th>2</th>\n",
       "      <td>1st Block Jayanagar</td>\n",
       "      <td>3 BHK</td>\n",
       "      <td>1875.0</td>\n",
       "      <td>2.0</td>\n",
       "      <td>235.0</td>\n",
       "      <td>3</td>\n",
       "      <td>12533.333333</td>\n",
       "    </tr>\n",
       "    <tr>\n",
       "      <th>3</th>\n",
       "      <td>1st Block Jayanagar</td>\n",
       "      <td>3 BHK</td>\n",
       "      <td>1200.0</td>\n",
       "      <td>2.0</td>\n",
       "      <td>130.0</td>\n",
       "      <td>3</td>\n",
       "      <td>10833.333333</td>\n",
       "    </tr>\n",
       "    <tr>\n",
       "      <th>4</th>\n",
       "      <td>1st Block Jayanagar</td>\n",
       "      <td>2 BHK</td>\n",
       "      <td>1235.0</td>\n",
       "      <td>2.0</td>\n",
       "      <td>148.0</td>\n",
       "      <td>2</td>\n",
       "      <td>11983.805668</td>\n",
       "    </tr>\n",
       "  </tbody>\n",
       "</table>\n",
       "</div>"
      ],
      "text/plain": [
       "              location   size  total_sqft  bath  price  bhk  price_per_sqft\n",
       "0  1st Block Jayanagar  4 BHK      2850.0   4.0  428.0    4    15017.543860\n",
       "1  1st Block Jayanagar  3 BHK      1630.0   3.0  194.0    3    11901.840491\n",
       "2  1st Block Jayanagar  3 BHK      1875.0   2.0  235.0    3    12533.333333\n",
       "3  1st Block Jayanagar  3 BHK      1200.0   2.0  130.0    3    10833.333333\n",
       "4  1st Block Jayanagar  2 BHK      1235.0   2.0  148.0    2    11983.805668"
      ]
     },
     "execution_count": 181,
     "metadata": {},
     "output_type": "execute_result"
    }
   ],
   "source": [
    "df8.head()"
   ]
  },
  {
   "cell_type": "code",
   "execution_count": 182,
   "id": "92f1dbbe",
   "metadata": {
    "execution": {
     "iopub.execute_input": "2024-04-10T15:22:01.820862Z",
     "iopub.status.busy": "2024-04-10T15:22:01.820605Z",
     "iopub.status.idle": "2024-04-10T15:22:01.833152Z",
     "shell.execute_reply": "2024-04-10T15:22:01.832341Z"
    },
    "papermill": {
     "duration": 0.052575,
     "end_time": "2024-04-10T15:22:01.835160",
     "exception": false,
     "start_time": "2024-04-10T15:22:01.782585",
     "status": "completed"
    },
    "tags": []
   },
   "outputs": [
    {
     "data": {
      "text/html": [
       "<div>\n",
       "<style scoped>\n",
       "    .dataframe tbody tr th:only-of-type {\n",
       "        vertical-align: middle;\n",
       "    }\n",
       "\n",
       "    .dataframe tbody tr th {\n",
       "        vertical-align: top;\n",
       "    }\n",
       "\n",
       "    .dataframe thead th {\n",
       "        text-align: right;\n",
       "    }\n",
       "</style>\n",
       "<table border=\"1\" class=\"dataframe\">\n",
       "  <thead>\n",
       "    <tr style=\"text-align: right;\">\n",
       "      <th></th>\n",
       "      <th>location</th>\n",
       "      <th>total_sqft</th>\n",
       "      <th>bath</th>\n",
       "      <th>price</th>\n",
       "      <th>bhk</th>\n",
       "    </tr>\n",
       "  </thead>\n",
       "  <tbody>\n",
       "    <tr>\n",
       "      <th>0</th>\n",
       "      <td>1st Block Jayanagar</td>\n",
       "      <td>2850.0</td>\n",
       "      <td>4.0</td>\n",
       "      <td>428.0</td>\n",
       "      <td>4</td>\n",
       "    </tr>\n",
       "    <tr>\n",
       "      <th>1</th>\n",
       "      <td>1st Block Jayanagar</td>\n",
       "      <td>1630.0</td>\n",
       "      <td>3.0</td>\n",
       "      <td>194.0</td>\n",
       "      <td>3</td>\n",
       "    </tr>\n",
       "    <tr>\n",
       "      <th>2</th>\n",
       "      <td>1st Block Jayanagar</td>\n",
       "      <td>1875.0</td>\n",
       "      <td>2.0</td>\n",
       "      <td>235.0</td>\n",
       "      <td>3</td>\n",
       "    </tr>\n",
       "  </tbody>\n",
       "</table>\n",
       "</div>"
      ],
      "text/plain": [
       "              location  total_sqft  bath  price  bhk\n",
       "0  1st Block Jayanagar      2850.0   4.0  428.0    4\n",
       "1  1st Block Jayanagar      1630.0   3.0  194.0    3\n",
       "2  1st Block Jayanagar      1875.0   2.0  235.0    3"
      ]
     },
     "execution_count": 182,
     "metadata": {},
     "output_type": "execute_result"
    }
   ],
   "source": [
    "df10 = df9.drop(['size','price_per_sqft'],axis = 'columns')\n",
    "df10.head(3)"
   ]
  },
  {
   "cell_type": "markdown",
   "id": "80ba80c2",
   "metadata": {
    "papermill": {
     "duration": 0.036393,
     "end_time": "2024-04-10T15:22:01.908595",
     "exception": false,
     "start_time": "2024-04-10T15:22:01.872202",
     "status": "completed"
    },
    "tags": []
   },
   "source": [
    "## Training a Model "
   ]
  },
  {
   "cell_type": "markdown",
   "id": "83487431",
   "metadata": {
    "papermill": {
     "duration": 0.037678,
     "end_time": "2024-04-10T15:22:01.982994",
     "exception": false,
     "start_time": "2024-04-10T15:22:01.945316",
     "status": "completed"
    },
    "tags": []
   },
   "source": [
    "Kita harus mengodekan data teks secara keras karena Machine Learrning model tidak dapat menginterpretasikan data teks dan data teks yang dikodekan secara keras ini juga disebut data dummy."
   ]
  },
  {
   "cell_type": "code",
   "execution_count": 183,
   "id": "214df350",
   "metadata": {
    "execution": {
     "iopub.execute_input": "2024-04-10T15:22:02.057728Z",
     "iopub.status.busy": "2024-04-10T15:22:02.057132Z",
     "iopub.status.idle": "2024-04-10T15:22:02.077054Z",
     "shell.execute_reply": "2024-04-10T15:22:02.076236Z"
    },
    "papermill": {
     "duration": 0.059445,
     "end_time": "2024-04-10T15:22:02.078890",
     "exception": false,
     "start_time": "2024-04-10T15:22:02.019445",
     "status": "completed"
    },
    "tags": []
   },
   "outputs": [
    {
     "data": {
      "text/html": [
       "<div>\n",
       "<style scoped>\n",
       "    .dataframe tbody tr th:only-of-type {\n",
       "        vertical-align: middle;\n",
       "    }\n",
       "\n",
       "    .dataframe tbody tr th {\n",
       "        vertical-align: top;\n",
       "    }\n",
       "\n",
       "    .dataframe thead th {\n",
       "        text-align: right;\n",
       "    }\n",
       "</style>\n",
       "<table border=\"1\" class=\"dataframe\">\n",
       "  <thead>\n",
       "    <tr style=\"text-align: right;\">\n",
       "      <th></th>\n",
       "      <th>1st Block Jayanagar</th>\n",
       "      <th>1st Phase JP Nagar</th>\n",
       "      <th>2nd Phase Judicial Layout</th>\n",
       "      <th>2nd Stage Nagarbhavi</th>\n",
       "      <th>5th Block Hbr Layout</th>\n",
       "      <th>5th Phase JP Nagar</th>\n",
       "      <th>6th Phase JP Nagar</th>\n",
       "      <th>7th Phase JP Nagar</th>\n",
       "      <th>8th Phase JP Nagar</th>\n",
       "      <th>9th Phase JP Nagar</th>\n",
       "      <th>...</th>\n",
       "      <th>Vishveshwarya Layout</th>\n",
       "      <th>Vishwapriya Layout</th>\n",
       "      <th>Vittasandra</th>\n",
       "      <th>Whitefield</th>\n",
       "      <th>Yelachenahalli</th>\n",
       "      <th>Yelahanka</th>\n",
       "      <th>Yelahanka New Town</th>\n",
       "      <th>Yelenahalli</th>\n",
       "      <th>Yeshwanthpur</th>\n",
       "      <th>other</th>\n",
       "    </tr>\n",
       "  </thead>\n",
       "  <tbody>\n",
       "    <tr>\n",
       "      <th>0</th>\n",
       "      <td>True</td>\n",
       "      <td>False</td>\n",
       "      <td>False</td>\n",
       "      <td>False</td>\n",
       "      <td>False</td>\n",
       "      <td>False</td>\n",
       "      <td>False</td>\n",
       "      <td>False</td>\n",
       "      <td>False</td>\n",
       "      <td>False</td>\n",
       "      <td>...</td>\n",
       "      <td>False</td>\n",
       "      <td>False</td>\n",
       "      <td>False</td>\n",
       "      <td>False</td>\n",
       "      <td>False</td>\n",
       "      <td>False</td>\n",
       "      <td>False</td>\n",
       "      <td>False</td>\n",
       "      <td>False</td>\n",
       "      <td>False</td>\n",
       "    </tr>\n",
       "    <tr>\n",
       "      <th>1</th>\n",
       "      <td>True</td>\n",
       "      <td>False</td>\n",
       "      <td>False</td>\n",
       "      <td>False</td>\n",
       "      <td>False</td>\n",
       "      <td>False</td>\n",
       "      <td>False</td>\n",
       "      <td>False</td>\n",
       "      <td>False</td>\n",
       "      <td>False</td>\n",
       "      <td>...</td>\n",
       "      <td>False</td>\n",
       "      <td>False</td>\n",
       "      <td>False</td>\n",
       "      <td>False</td>\n",
       "      <td>False</td>\n",
       "      <td>False</td>\n",
       "      <td>False</td>\n",
       "      <td>False</td>\n",
       "      <td>False</td>\n",
       "      <td>False</td>\n",
       "    </tr>\n",
       "    <tr>\n",
       "      <th>2</th>\n",
       "      <td>True</td>\n",
       "      <td>False</td>\n",
       "      <td>False</td>\n",
       "      <td>False</td>\n",
       "      <td>False</td>\n",
       "      <td>False</td>\n",
       "      <td>False</td>\n",
       "      <td>False</td>\n",
       "      <td>False</td>\n",
       "      <td>False</td>\n",
       "      <td>...</td>\n",
       "      <td>False</td>\n",
       "      <td>False</td>\n",
       "      <td>False</td>\n",
       "      <td>False</td>\n",
       "      <td>False</td>\n",
       "      <td>False</td>\n",
       "      <td>False</td>\n",
       "      <td>False</td>\n",
       "      <td>False</td>\n",
       "      <td>False</td>\n",
       "    </tr>\n",
       "  </tbody>\n",
       "</table>\n",
       "<p>3 rows × 242 columns</p>\n",
       "</div>"
      ],
      "text/plain": [
       "   1st Block Jayanagar  1st Phase JP Nagar  2nd Phase Judicial Layout  \\\n",
       "0                 True               False                      False   \n",
       "1                 True               False                      False   \n",
       "2                 True               False                      False   \n",
       "\n",
       "   2nd Stage Nagarbhavi  5th Block Hbr Layout  5th Phase JP Nagar  \\\n",
       "0                 False                 False               False   \n",
       "1                 False                 False               False   \n",
       "2                 False                 False               False   \n",
       "\n",
       "   6th Phase JP Nagar  7th Phase JP Nagar  8th Phase JP Nagar  \\\n",
       "0               False               False               False   \n",
       "1               False               False               False   \n",
       "2               False               False               False   \n",
       "\n",
       "   9th Phase JP Nagar  ...  Vishveshwarya Layout  Vishwapriya Layout  \\\n",
       "0               False  ...                 False               False   \n",
       "1               False  ...                 False               False   \n",
       "2               False  ...                 False               False   \n",
       "\n",
       "   Vittasandra  Whitefield  Yelachenahalli  Yelahanka  Yelahanka New Town  \\\n",
       "0        False       False           False      False               False   \n",
       "1        False       False           False      False               False   \n",
       "2        False       False           False      False               False   \n",
       "\n",
       "   Yelenahalli  Yeshwanthpur  other  \n",
       "0        False         False  False  \n",
       "1        False         False  False  \n",
       "2        False         False  False  \n",
       "\n",
       "[3 rows x 242 columns]"
      ]
     },
     "execution_count": 183,
     "metadata": {},
     "output_type": "execute_result"
    }
   ],
   "source": [
    "dumies = pd.get_dummies(df10.location)\n",
    "dumies.head(3)"
   ]
  },
  {
   "cell_type": "code",
   "execution_count": 184,
   "id": "be215231",
   "metadata": {
    "execution": {
     "iopub.execute_input": "2024-04-10T15:22:02.156025Z",
     "iopub.status.busy": "2024-04-10T15:22:02.155361Z",
     "iopub.status.idle": "2024-04-10T15:22:02.183550Z",
     "shell.execute_reply": "2024-04-10T15:22:02.182566Z"
    },
    "papermill": {
     "duration": 0.069019,
     "end_time": "2024-04-10T15:22:02.185620",
     "exception": false,
     "start_time": "2024-04-10T15:22:02.116601",
     "status": "completed"
    },
    "tags": []
   },
   "outputs": [
    {
     "data": {
      "text/html": [
       "<div>\n",
       "<style scoped>\n",
       "    .dataframe tbody tr th:only-of-type {\n",
       "        vertical-align: middle;\n",
       "    }\n",
       "\n",
       "    .dataframe tbody tr th {\n",
       "        vertical-align: top;\n",
       "    }\n",
       "\n",
       "    .dataframe thead th {\n",
       "        text-align: right;\n",
       "    }\n",
       "</style>\n",
       "<table border=\"1\" class=\"dataframe\">\n",
       "  <thead>\n",
       "    <tr style=\"text-align: right;\">\n",
       "      <th></th>\n",
       "      <th>location</th>\n",
       "      <th>total_sqft</th>\n",
       "      <th>bath</th>\n",
       "      <th>price</th>\n",
       "      <th>bhk</th>\n",
       "      <th>1st Block Jayanagar</th>\n",
       "      <th>1st Phase JP Nagar</th>\n",
       "      <th>2nd Phase Judicial Layout</th>\n",
       "      <th>2nd Stage Nagarbhavi</th>\n",
       "      <th>5th Block Hbr Layout</th>\n",
       "      <th>...</th>\n",
       "      <th>Vijayanagar</th>\n",
       "      <th>Vishveshwarya Layout</th>\n",
       "      <th>Vishwapriya Layout</th>\n",
       "      <th>Vittasandra</th>\n",
       "      <th>Whitefield</th>\n",
       "      <th>Yelachenahalli</th>\n",
       "      <th>Yelahanka</th>\n",
       "      <th>Yelahanka New Town</th>\n",
       "      <th>Yelenahalli</th>\n",
       "      <th>Yeshwanthpur</th>\n",
       "    </tr>\n",
       "  </thead>\n",
       "  <tbody>\n",
       "    <tr>\n",
       "      <th>0</th>\n",
       "      <td>1st Block Jayanagar</td>\n",
       "      <td>2850.0</td>\n",
       "      <td>4.0</td>\n",
       "      <td>428.0</td>\n",
       "      <td>4</td>\n",
       "      <td>True</td>\n",
       "      <td>False</td>\n",
       "      <td>False</td>\n",
       "      <td>False</td>\n",
       "      <td>False</td>\n",
       "      <td>...</td>\n",
       "      <td>False</td>\n",
       "      <td>False</td>\n",
       "      <td>False</td>\n",
       "      <td>False</td>\n",
       "      <td>False</td>\n",
       "      <td>False</td>\n",
       "      <td>False</td>\n",
       "      <td>False</td>\n",
       "      <td>False</td>\n",
       "      <td>False</td>\n",
       "    </tr>\n",
       "    <tr>\n",
       "      <th>1</th>\n",
       "      <td>1st Block Jayanagar</td>\n",
       "      <td>1630.0</td>\n",
       "      <td>3.0</td>\n",
       "      <td>194.0</td>\n",
       "      <td>3</td>\n",
       "      <td>True</td>\n",
       "      <td>False</td>\n",
       "      <td>False</td>\n",
       "      <td>False</td>\n",
       "      <td>False</td>\n",
       "      <td>...</td>\n",
       "      <td>False</td>\n",
       "      <td>False</td>\n",
       "      <td>False</td>\n",
       "      <td>False</td>\n",
       "      <td>False</td>\n",
       "      <td>False</td>\n",
       "      <td>False</td>\n",
       "      <td>False</td>\n",
       "      <td>False</td>\n",
       "      <td>False</td>\n",
       "    </tr>\n",
       "    <tr>\n",
       "      <th>2</th>\n",
       "      <td>1st Block Jayanagar</td>\n",
       "      <td>1875.0</td>\n",
       "      <td>2.0</td>\n",
       "      <td>235.0</td>\n",
       "      <td>3</td>\n",
       "      <td>True</td>\n",
       "      <td>False</td>\n",
       "      <td>False</td>\n",
       "      <td>False</td>\n",
       "      <td>False</td>\n",
       "      <td>...</td>\n",
       "      <td>False</td>\n",
       "      <td>False</td>\n",
       "      <td>False</td>\n",
       "      <td>False</td>\n",
       "      <td>False</td>\n",
       "      <td>False</td>\n",
       "      <td>False</td>\n",
       "      <td>False</td>\n",
       "      <td>False</td>\n",
       "      <td>False</td>\n",
       "    </tr>\n",
       "    <tr>\n",
       "      <th>3</th>\n",
       "      <td>1st Block Jayanagar</td>\n",
       "      <td>1200.0</td>\n",
       "      <td>2.0</td>\n",
       "      <td>130.0</td>\n",
       "      <td>3</td>\n",
       "      <td>True</td>\n",
       "      <td>False</td>\n",
       "      <td>False</td>\n",
       "      <td>False</td>\n",
       "      <td>False</td>\n",
       "      <td>...</td>\n",
       "      <td>False</td>\n",
       "      <td>False</td>\n",
       "      <td>False</td>\n",
       "      <td>False</td>\n",
       "      <td>False</td>\n",
       "      <td>False</td>\n",
       "      <td>False</td>\n",
       "      <td>False</td>\n",
       "      <td>False</td>\n",
       "      <td>False</td>\n",
       "    </tr>\n",
       "    <tr>\n",
       "      <th>4</th>\n",
       "      <td>1st Block Jayanagar</td>\n",
       "      <td>1235.0</td>\n",
       "      <td>2.0</td>\n",
       "      <td>148.0</td>\n",
       "      <td>2</td>\n",
       "      <td>True</td>\n",
       "      <td>False</td>\n",
       "      <td>False</td>\n",
       "      <td>False</td>\n",
       "      <td>False</td>\n",
       "      <td>...</td>\n",
       "      <td>False</td>\n",
       "      <td>False</td>\n",
       "      <td>False</td>\n",
       "      <td>False</td>\n",
       "      <td>False</td>\n",
       "      <td>False</td>\n",
       "      <td>False</td>\n",
       "      <td>False</td>\n",
       "      <td>False</td>\n",
       "      <td>False</td>\n",
       "    </tr>\n",
       "  </tbody>\n",
       "</table>\n",
       "<p>5 rows × 246 columns</p>\n",
       "</div>"
      ],
      "text/plain": [
       "              location  total_sqft  bath  price  bhk  1st Block Jayanagar  \\\n",
       "0  1st Block Jayanagar      2850.0   4.0  428.0    4                 True   \n",
       "1  1st Block Jayanagar      1630.0   3.0  194.0    3                 True   \n",
       "2  1st Block Jayanagar      1875.0   2.0  235.0    3                 True   \n",
       "3  1st Block Jayanagar      1200.0   2.0  130.0    3                 True   \n",
       "4  1st Block Jayanagar      1235.0   2.0  148.0    2                 True   \n",
       "\n",
       "   1st Phase JP Nagar  2nd Phase Judicial Layout  2nd Stage Nagarbhavi  \\\n",
       "0               False                      False                 False   \n",
       "1               False                      False                 False   \n",
       "2               False                      False                 False   \n",
       "3               False                      False                 False   \n",
       "4               False                      False                 False   \n",
       "\n",
       "   5th Block Hbr Layout  ...  Vijayanagar  Vishveshwarya Layout  \\\n",
       "0                 False  ...        False                 False   \n",
       "1                 False  ...        False                 False   \n",
       "2                 False  ...        False                 False   \n",
       "3                 False  ...        False                 False   \n",
       "4                 False  ...        False                 False   \n",
       "\n",
       "   Vishwapriya Layout  Vittasandra  Whitefield  Yelachenahalli  Yelahanka  \\\n",
       "0               False        False       False           False      False   \n",
       "1               False        False       False           False      False   \n",
       "2               False        False       False           False      False   \n",
       "3               False        False       False           False      False   \n",
       "4               False        False       False           False      False   \n",
       "\n",
       "   Yelahanka New Town  Yelenahalli  Yeshwanthpur  \n",
       "0               False        False         False  \n",
       "1               False        False         False  \n",
       "2               False        False         False  \n",
       "3               False        False         False  \n",
       "4               False        False         False  \n",
       "\n",
       "[5 rows x 246 columns]"
      ]
     },
     "execution_count": 184,
     "metadata": {},
     "output_type": "execute_result"
    }
   ],
   "source": [
    "df11 = pd.concat([df10, dumies.drop('other',axis = 'columns')], axis='columns')\n",
    "df11.head()"
   ]
  },
  {
   "cell_type": "markdown",
   "id": "2f7c24a2",
   "metadata": {
    "papermill": {
     "duration": 0.037043,
     "end_time": "2024-04-10T15:22:02.260250",
     "exception": false,
     "start_time": "2024-04-10T15:22:02.223207",
     "status": "completed"
    },
    "tags": []
   },
   "source": [
    "sekarang kita memiliki kolom lokasi berdasarkan titik data dummy dan sekarang kita dapat membuang kolom lokasi"
   ]
  },
  {
   "cell_type": "code",
   "execution_count": 185,
   "id": "0ec3ef31",
   "metadata": {
    "execution": {
     "iopub.execute_input": "2024-04-10T15:22:02.336200Z",
     "iopub.status.busy": "2024-04-10T15:22:02.335926Z",
     "iopub.status.idle": "2024-04-10T15:22:02.357946Z",
     "shell.execute_reply": "2024-04-10T15:22:02.357113Z"
    },
    "papermill": {
     "duration": 0.062151,
     "end_time": "2024-04-10T15:22:02.359835",
     "exception": false,
     "start_time": "2024-04-10T15:22:02.297684",
     "status": "completed"
    },
    "tags": []
   },
   "outputs": [
    {
     "data": {
      "text/html": [
       "<div>\n",
       "<style scoped>\n",
       "    .dataframe tbody tr th:only-of-type {\n",
       "        vertical-align: middle;\n",
       "    }\n",
       "\n",
       "    .dataframe tbody tr th {\n",
       "        vertical-align: top;\n",
       "    }\n",
       "\n",
       "    .dataframe thead th {\n",
       "        text-align: right;\n",
       "    }\n",
       "</style>\n",
       "<table border=\"1\" class=\"dataframe\">\n",
       "  <thead>\n",
       "    <tr style=\"text-align: right;\">\n",
       "      <th></th>\n",
       "      <th>total_sqft</th>\n",
       "      <th>bath</th>\n",
       "      <th>price</th>\n",
       "      <th>bhk</th>\n",
       "      <th>1st Block Jayanagar</th>\n",
       "      <th>1st Phase JP Nagar</th>\n",
       "      <th>2nd Phase Judicial Layout</th>\n",
       "      <th>2nd Stage Nagarbhavi</th>\n",
       "      <th>5th Block Hbr Layout</th>\n",
       "      <th>5th Phase JP Nagar</th>\n",
       "      <th>...</th>\n",
       "      <th>Vijayanagar</th>\n",
       "      <th>Vishveshwarya Layout</th>\n",
       "      <th>Vishwapriya Layout</th>\n",
       "      <th>Vittasandra</th>\n",
       "      <th>Whitefield</th>\n",
       "      <th>Yelachenahalli</th>\n",
       "      <th>Yelahanka</th>\n",
       "      <th>Yelahanka New Town</th>\n",
       "      <th>Yelenahalli</th>\n",
       "      <th>Yeshwanthpur</th>\n",
       "    </tr>\n",
       "  </thead>\n",
       "  <tbody>\n",
       "    <tr>\n",
       "      <th>0</th>\n",
       "      <td>2850.0</td>\n",
       "      <td>4.0</td>\n",
       "      <td>428.0</td>\n",
       "      <td>4</td>\n",
       "      <td>True</td>\n",
       "      <td>False</td>\n",
       "      <td>False</td>\n",
       "      <td>False</td>\n",
       "      <td>False</td>\n",
       "      <td>False</td>\n",
       "      <td>...</td>\n",
       "      <td>False</td>\n",
       "      <td>False</td>\n",
       "      <td>False</td>\n",
       "      <td>False</td>\n",
       "      <td>False</td>\n",
       "      <td>False</td>\n",
       "      <td>False</td>\n",
       "      <td>False</td>\n",
       "      <td>False</td>\n",
       "      <td>False</td>\n",
       "    </tr>\n",
       "    <tr>\n",
       "      <th>1</th>\n",
       "      <td>1630.0</td>\n",
       "      <td>3.0</td>\n",
       "      <td>194.0</td>\n",
       "      <td>3</td>\n",
       "      <td>True</td>\n",
       "      <td>False</td>\n",
       "      <td>False</td>\n",
       "      <td>False</td>\n",
       "      <td>False</td>\n",
       "      <td>False</td>\n",
       "      <td>...</td>\n",
       "      <td>False</td>\n",
       "      <td>False</td>\n",
       "      <td>False</td>\n",
       "      <td>False</td>\n",
       "      <td>False</td>\n",
       "      <td>False</td>\n",
       "      <td>False</td>\n",
       "      <td>False</td>\n",
       "      <td>False</td>\n",
       "      <td>False</td>\n",
       "    </tr>\n",
       "    <tr>\n",
       "      <th>2</th>\n",
       "      <td>1875.0</td>\n",
       "      <td>2.0</td>\n",
       "      <td>235.0</td>\n",
       "      <td>3</td>\n",
       "      <td>True</td>\n",
       "      <td>False</td>\n",
       "      <td>False</td>\n",
       "      <td>False</td>\n",
       "      <td>False</td>\n",
       "      <td>False</td>\n",
       "      <td>...</td>\n",
       "      <td>False</td>\n",
       "      <td>False</td>\n",
       "      <td>False</td>\n",
       "      <td>False</td>\n",
       "      <td>False</td>\n",
       "      <td>False</td>\n",
       "      <td>False</td>\n",
       "      <td>False</td>\n",
       "      <td>False</td>\n",
       "      <td>False</td>\n",
       "    </tr>\n",
       "    <tr>\n",
       "      <th>3</th>\n",
       "      <td>1200.0</td>\n",
       "      <td>2.0</td>\n",
       "      <td>130.0</td>\n",
       "      <td>3</td>\n",
       "      <td>True</td>\n",
       "      <td>False</td>\n",
       "      <td>False</td>\n",
       "      <td>False</td>\n",
       "      <td>False</td>\n",
       "      <td>False</td>\n",
       "      <td>...</td>\n",
       "      <td>False</td>\n",
       "      <td>False</td>\n",
       "      <td>False</td>\n",
       "      <td>False</td>\n",
       "      <td>False</td>\n",
       "      <td>False</td>\n",
       "      <td>False</td>\n",
       "      <td>False</td>\n",
       "      <td>False</td>\n",
       "      <td>False</td>\n",
       "    </tr>\n",
       "    <tr>\n",
       "      <th>4</th>\n",
       "      <td>1235.0</td>\n",
       "      <td>2.0</td>\n",
       "      <td>148.0</td>\n",
       "      <td>2</td>\n",
       "      <td>True</td>\n",
       "      <td>False</td>\n",
       "      <td>False</td>\n",
       "      <td>False</td>\n",
       "      <td>False</td>\n",
       "      <td>False</td>\n",
       "      <td>...</td>\n",
       "      <td>False</td>\n",
       "      <td>False</td>\n",
       "      <td>False</td>\n",
       "      <td>False</td>\n",
       "      <td>False</td>\n",
       "      <td>False</td>\n",
       "      <td>False</td>\n",
       "      <td>False</td>\n",
       "      <td>False</td>\n",
       "      <td>False</td>\n",
       "    </tr>\n",
       "  </tbody>\n",
       "</table>\n",
       "<p>5 rows × 245 columns</p>\n",
       "</div>"
      ],
      "text/plain": [
       "   total_sqft  bath  price  bhk  1st Block Jayanagar  1st Phase JP Nagar  \\\n",
       "0      2850.0   4.0  428.0    4                 True               False   \n",
       "1      1630.0   3.0  194.0    3                 True               False   \n",
       "2      1875.0   2.0  235.0    3                 True               False   \n",
       "3      1200.0   2.0  130.0    3                 True               False   \n",
       "4      1235.0   2.0  148.0    2                 True               False   \n",
       "\n",
       "   2nd Phase Judicial Layout  2nd Stage Nagarbhavi  5th Block Hbr Layout  \\\n",
       "0                      False                 False                 False   \n",
       "1                      False                 False                 False   \n",
       "2                      False                 False                 False   \n",
       "3                      False                 False                 False   \n",
       "4                      False                 False                 False   \n",
       "\n",
       "   5th Phase JP Nagar  ...  Vijayanagar  Vishveshwarya Layout  \\\n",
       "0               False  ...        False                 False   \n",
       "1               False  ...        False                 False   \n",
       "2               False  ...        False                 False   \n",
       "3               False  ...        False                 False   \n",
       "4               False  ...        False                 False   \n",
       "\n",
       "   Vishwapriya Layout  Vittasandra  Whitefield  Yelachenahalli  Yelahanka  \\\n",
       "0               False        False       False           False      False   \n",
       "1               False        False       False           False      False   \n",
       "2               False        False       False           False      False   \n",
       "3               False        False       False           False      False   \n",
       "4               False        False       False           False      False   \n",
       "\n",
       "   Yelahanka New Town  Yelenahalli  Yeshwanthpur  \n",
       "0               False        False         False  \n",
       "1               False        False         False  \n",
       "2               False        False         False  \n",
       "3               False        False         False  \n",
       "4               False        False         False  \n",
       "\n",
       "[5 rows x 245 columns]"
      ]
     },
     "execution_count": 185,
     "metadata": {},
     "output_type": "execute_result"
    }
   ],
   "source": [
    "df12 = df11.drop('location', axis='columns')\n",
    "df12.head()"
   ]
  },
  {
   "cell_type": "code",
   "execution_count": 186,
   "id": "cc757379",
   "metadata": {
    "execution": {
     "iopub.execute_input": "2024-04-10T15:22:02.436238Z",
     "iopub.status.busy": "2024-04-10T15:22:02.435978Z",
     "iopub.status.idle": "2024-04-10T15:22:02.440839Z",
     "shell.execute_reply": "2024-04-10T15:22:02.440066Z"
    },
    "papermill": {
     "duration": 0.045207,
     "end_time": "2024-04-10T15:22:02.442688",
     "exception": false,
     "start_time": "2024-04-10T15:22:02.397481",
     "status": "completed"
    },
    "tags": []
   },
   "outputs": [
    {
     "data": {
      "text/plain": [
       "(10241, 245)"
      ]
     },
     "execution_count": 186,
     "metadata": {},
     "output_type": "execute_result"
    }
   ],
   "source": [
    "df12.shape"
   ]
  },
  {
   "cell_type": "code",
   "execution_count": 187,
   "id": "b75d7e89",
   "metadata": {
    "execution": {
     "iopub.execute_input": "2024-04-10T15:22:02.519741Z",
     "iopub.status.busy": "2024-04-10T15:22:02.519460Z",
     "iopub.status.idle": "2024-04-10T15:22:02.541368Z",
     "shell.execute_reply": "2024-04-10T15:22:02.540579Z"
    },
    "papermill": {
     "duration": 0.063033,
     "end_time": "2024-04-10T15:22:02.543214",
     "exception": false,
     "start_time": "2024-04-10T15:22:02.480181",
     "status": "completed"
    },
    "tags": []
   },
   "outputs": [
    {
     "data": {
      "text/html": [
       "<div>\n",
       "<style scoped>\n",
       "    .dataframe tbody tr th:only-of-type {\n",
       "        vertical-align: middle;\n",
       "    }\n",
       "\n",
       "    .dataframe tbody tr th {\n",
       "        vertical-align: top;\n",
       "    }\n",
       "\n",
       "    .dataframe thead th {\n",
       "        text-align: right;\n",
       "    }\n",
       "</style>\n",
       "<table border=\"1\" class=\"dataframe\">\n",
       "  <thead>\n",
       "    <tr style=\"text-align: right;\">\n",
       "      <th></th>\n",
       "      <th>total_sqft</th>\n",
       "      <th>bath</th>\n",
       "      <th>bhk</th>\n",
       "      <th>1st Block Jayanagar</th>\n",
       "      <th>1st Phase JP Nagar</th>\n",
       "      <th>2nd Phase Judicial Layout</th>\n",
       "      <th>2nd Stage Nagarbhavi</th>\n",
       "      <th>5th Block Hbr Layout</th>\n",
       "      <th>5th Phase JP Nagar</th>\n",
       "      <th>6th Phase JP Nagar</th>\n",
       "      <th>...</th>\n",
       "      <th>Vijayanagar</th>\n",
       "      <th>Vishveshwarya Layout</th>\n",
       "      <th>Vishwapriya Layout</th>\n",
       "      <th>Vittasandra</th>\n",
       "      <th>Whitefield</th>\n",
       "      <th>Yelachenahalli</th>\n",
       "      <th>Yelahanka</th>\n",
       "      <th>Yelahanka New Town</th>\n",
       "      <th>Yelenahalli</th>\n",
       "      <th>Yeshwanthpur</th>\n",
       "    </tr>\n",
       "  </thead>\n",
       "  <tbody>\n",
       "    <tr>\n",
       "      <th>0</th>\n",
       "      <td>2850.0</td>\n",
       "      <td>4.0</td>\n",
       "      <td>4</td>\n",
       "      <td>True</td>\n",
       "      <td>False</td>\n",
       "      <td>False</td>\n",
       "      <td>False</td>\n",
       "      <td>False</td>\n",
       "      <td>False</td>\n",
       "      <td>False</td>\n",
       "      <td>...</td>\n",
       "      <td>False</td>\n",
       "      <td>False</td>\n",
       "      <td>False</td>\n",
       "      <td>False</td>\n",
       "      <td>False</td>\n",
       "      <td>False</td>\n",
       "      <td>False</td>\n",
       "      <td>False</td>\n",
       "      <td>False</td>\n",
       "      <td>False</td>\n",
       "    </tr>\n",
       "    <tr>\n",
       "      <th>1</th>\n",
       "      <td>1630.0</td>\n",
       "      <td>3.0</td>\n",
       "      <td>3</td>\n",
       "      <td>True</td>\n",
       "      <td>False</td>\n",
       "      <td>False</td>\n",
       "      <td>False</td>\n",
       "      <td>False</td>\n",
       "      <td>False</td>\n",
       "      <td>False</td>\n",
       "      <td>...</td>\n",
       "      <td>False</td>\n",
       "      <td>False</td>\n",
       "      <td>False</td>\n",
       "      <td>False</td>\n",
       "      <td>False</td>\n",
       "      <td>False</td>\n",
       "      <td>False</td>\n",
       "      <td>False</td>\n",
       "      <td>False</td>\n",
       "      <td>False</td>\n",
       "    </tr>\n",
       "    <tr>\n",
       "      <th>2</th>\n",
       "      <td>1875.0</td>\n",
       "      <td>2.0</td>\n",
       "      <td>3</td>\n",
       "      <td>True</td>\n",
       "      <td>False</td>\n",
       "      <td>False</td>\n",
       "      <td>False</td>\n",
       "      <td>False</td>\n",
       "      <td>False</td>\n",
       "      <td>False</td>\n",
       "      <td>...</td>\n",
       "      <td>False</td>\n",
       "      <td>False</td>\n",
       "      <td>False</td>\n",
       "      <td>False</td>\n",
       "      <td>False</td>\n",
       "      <td>False</td>\n",
       "      <td>False</td>\n",
       "      <td>False</td>\n",
       "      <td>False</td>\n",
       "      <td>False</td>\n",
       "    </tr>\n",
       "    <tr>\n",
       "      <th>3</th>\n",
       "      <td>1200.0</td>\n",
       "      <td>2.0</td>\n",
       "      <td>3</td>\n",
       "      <td>True</td>\n",
       "      <td>False</td>\n",
       "      <td>False</td>\n",
       "      <td>False</td>\n",
       "      <td>False</td>\n",
       "      <td>False</td>\n",
       "      <td>False</td>\n",
       "      <td>...</td>\n",
       "      <td>False</td>\n",
       "      <td>False</td>\n",
       "      <td>False</td>\n",
       "      <td>False</td>\n",
       "      <td>False</td>\n",
       "      <td>False</td>\n",
       "      <td>False</td>\n",
       "      <td>False</td>\n",
       "      <td>False</td>\n",
       "      <td>False</td>\n",
       "    </tr>\n",
       "    <tr>\n",
       "      <th>4</th>\n",
       "      <td>1235.0</td>\n",
       "      <td>2.0</td>\n",
       "      <td>2</td>\n",
       "      <td>True</td>\n",
       "      <td>False</td>\n",
       "      <td>False</td>\n",
       "      <td>False</td>\n",
       "      <td>False</td>\n",
       "      <td>False</td>\n",
       "      <td>False</td>\n",
       "      <td>...</td>\n",
       "      <td>False</td>\n",
       "      <td>False</td>\n",
       "      <td>False</td>\n",
       "      <td>False</td>\n",
       "      <td>False</td>\n",
       "      <td>False</td>\n",
       "      <td>False</td>\n",
       "      <td>False</td>\n",
       "      <td>False</td>\n",
       "      <td>False</td>\n",
       "    </tr>\n",
       "  </tbody>\n",
       "</table>\n",
       "<p>5 rows × 244 columns</p>\n",
       "</div>"
      ],
      "text/plain": [
       "   total_sqft  bath  bhk  1st Block Jayanagar  1st Phase JP Nagar  \\\n",
       "0      2850.0   4.0    4                 True               False   \n",
       "1      1630.0   3.0    3                 True               False   \n",
       "2      1875.0   2.0    3                 True               False   \n",
       "3      1200.0   2.0    3                 True               False   \n",
       "4      1235.0   2.0    2                 True               False   \n",
       "\n",
       "   2nd Phase Judicial Layout  2nd Stage Nagarbhavi  5th Block Hbr Layout  \\\n",
       "0                      False                 False                 False   \n",
       "1                      False                 False                 False   \n",
       "2                      False                 False                 False   \n",
       "3                      False                 False                 False   \n",
       "4                      False                 False                 False   \n",
       "\n",
       "   5th Phase JP Nagar  6th Phase JP Nagar  ...  Vijayanagar  \\\n",
       "0               False               False  ...        False   \n",
       "1               False               False  ...        False   \n",
       "2               False               False  ...        False   \n",
       "3               False               False  ...        False   \n",
       "4               False               False  ...        False   \n",
       "\n",
       "   Vishveshwarya Layout  Vishwapriya Layout  Vittasandra  Whitefield  \\\n",
       "0                 False               False        False       False   \n",
       "1                 False               False        False       False   \n",
       "2                 False               False        False       False   \n",
       "3                 False               False        False       False   \n",
       "4                 False               False        False       False   \n",
       "\n",
       "   Yelachenahalli  Yelahanka  Yelahanka New Town  Yelenahalli  Yeshwanthpur  \n",
       "0           False      False               False        False         False  \n",
       "1           False      False               False        False         False  \n",
       "2           False      False               False        False         False  \n",
       "3           False      False               False        False         False  \n",
       "4           False      False               False        False         False  \n",
       "\n",
       "[5 rows x 244 columns]"
      ]
     },
     "execution_count": 187,
     "metadata": {},
     "output_type": "execute_result"
    }
   ],
   "source": [
    "X = df12.drop('price', axis='columns')\n",
    "X.head()"
   ]
  },
  {
   "cell_type": "code",
   "execution_count": 188,
   "id": "aa53234b",
   "metadata": {
    "execution": {
     "iopub.execute_input": "2024-04-10T15:22:02.622034Z",
     "iopub.status.busy": "2024-04-10T15:22:02.621578Z",
     "iopub.status.idle": "2024-04-10T15:22:02.627839Z",
     "shell.execute_reply": "2024-04-10T15:22:02.627057Z"
    },
    "papermill": {
     "duration": 0.046975,
     "end_time": "2024-04-10T15:22:02.629717",
     "exception": false,
     "start_time": "2024-04-10T15:22:02.582742",
     "status": "completed"
    },
    "tags": []
   },
   "outputs": [
    {
     "data": {
      "text/plain": [
       "0    428.0\n",
       "1    194.0\n",
       "2    235.0\n",
       "3    130.0\n",
       "4    148.0\n",
       "Name: price, dtype: float64"
      ]
     },
     "execution_count": 188,
     "metadata": {},
     "output_type": "execute_result"
    }
   ],
   "source": [
    "y = df12.price\n",
    "y.head()"
   ]
  },
  {
   "cell_type": "markdown",
   "id": "9fe8e28f",
   "metadata": {
    "papermill": {
     "duration": 0.037831,
     "end_time": "2024-04-10T15:22:02.706024",
     "exception": false,
     "start_time": "2024-04-10T15:22:02.668193",
     "status": "completed"
    },
    "tags": []
   },
   "source": [
    "Sekarang kita harus membagi data menjadi set data latih dan uji"
   ]
  },
  {
   "cell_type": "markdown",
   "id": "54c9223c",
   "metadata": {
    "papermill": {
     "duration": 0.03793,
     "end_time": "2024-04-10T15:22:02.782345",
     "exception": false,
     "start_time": "2024-04-10T15:22:02.744415",
     "status": "completed"
    },
    "tags": []
   },
   "source": [
    "## Train Test Split "
   ]
  },
  {
   "cell_type": "code",
   "execution_count": 189,
   "id": "9136fa2a",
   "metadata": {
    "execution": {
     "iopub.execute_input": "2024-04-10T15:22:02.860695Z",
     "iopub.status.busy": "2024-04-10T15:22:02.860240Z",
     "iopub.status.idle": "2024-04-10T15:22:03.062065Z",
     "shell.execute_reply": "2024-04-10T15:22:03.061326Z"
    },
    "papermill": {
     "duration": 0.243502,
     "end_time": "2024-04-10T15:22:03.064263",
     "exception": false,
     "start_time": "2024-04-10T15:22:02.820761",
     "status": "completed"
    },
    "tags": []
   },
   "outputs": [],
   "source": [
    "from sklearn.model_selection import train_test_split\n",
    "X_train, X_test, y_train, y_test = train_test_split(X,y, test_size=0.2, random_state=10)"
   ]
  },
  {
   "cell_type": "markdown",
   "id": "c2cec731",
   "metadata": {
    "papermill": {
     "duration": 0.039072,
     "end_time": "2024-04-10T15:22:03.142861",
     "exception": false,
     "start_time": "2024-04-10T15:22:03.103789",
     "status": "completed"
    },
    "tags": []
   },
   "source": [
    "## Fitting Linear Regression Model "
   ]
  },
  {
   "cell_type": "markdown",
   "id": "c106a0cf",
   "metadata": {
    "papermill": {
     "duration": 0.0378,
     "end_time": "2024-04-10T15:22:03.218998",
     "exception": false,
     "start_time": "2024-04-10T15:22:03.181198",
     "status": "completed"
    },
    "tags": []
   },
   "source": [
    "Now we have to fit the model on algorithm"
   ]
  },
  {
   "cell_type": "code",
   "execution_count": 190,
   "id": "0cd9c393",
   "metadata": {
    "execution": {
     "iopub.execute_input": "2024-04-10T15:22:03.296691Z",
     "iopub.status.busy": "2024-04-10T15:22:03.296171Z",
     "iopub.status.idle": "2024-04-10T15:22:03.566864Z",
     "shell.execute_reply": "2024-04-10T15:22:03.565739Z"
    },
    "papermill": {
     "duration": 0.312983,
     "end_time": "2024-04-10T15:22:03.570025",
     "exception": false,
     "start_time": "2024-04-10T15:22:03.257042",
     "status": "completed"
    },
    "tags": []
   },
   "outputs": [
    {
     "data": {
      "text/plain": [
       "0.8520673145508953"
      ]
     },
     "execution_count": 190,
     "metadata": {},
     "output_type": "execute_result"
    }
   ],
   "source": [
    "from sklearn.linear_model import LinearRegression\n",
    "lr_clf=  LinearRegression()\n",
    "lr_clf.fit(X_train, y_train)\n",
    "lr_clf.score(X_test,y_test)\n",
    "\n"
   ]
  },
  {
   "cell_type": "code",
   "execution_count": 191,
   "id": "fdb075ac",
   "metadata": {
    "execution": {
     "iopub.execute_input": "2024-04-10T15:22:03.734016Z",
     "iopub.status.busy": "2024-04-10T15:22:03.733663Z",
     "iopub.status.idle": "2024-04-10T15:22:04.739475Z",
     "shell.execute_reply": "2024-04-10T15:22:04.738203Z"
    },
    "papermill": {
     "duration": 1.048586,
     "end_time": "2024-04-10T15:22:04.742472",
     "exception": false,
     "start_time": "2024-04-10T15:22:03.693886",
     "status": "completed"
    },
    "tags": []
   },
   "outputs": [
    {
     "data": {
      "text/plain": [
       "array([0.77907697, 0.7535079 , 0.79892911, 0.80972959, 0.8025454 ])"
      ]
     },
     "execution_count": 191,
     "metadata": {},
     "output_type": "execute_result"
    }
   ],
   "source": [
    "from sklearn.model_selection import ShuffleSplit\n",
    "from sklearn.model_selection import cross_val_score\n",
    "\n",
    "cv = ShuffleSplit(n_splits=5, test_size=0.2, random_state=0)\n",
    "\n",
    "cross_val_score(LinearRegression(), X, y, cv=cv)\n"
   ]
  },
  {
   "cell_type": "markdown",
   "id": "ed6ad10c",
   "metadata": {
    "papermill": {
     "duration": 0.038649,
     "end_time": "2024-04-10T15:22:04.909708",
     "exception": false,
     "start_time": "2024-04-10T15:22:04.871059",
     "status": "completed"
    },
    "tags": []
   },
   "source": [
    "## Model Evaluation "
   ]
  },
  {
   "cell_type": "markdown",
   "id": "f6bc2bcf",
   "metadata": {
    "papermill": {
     "duration": 0.03852,
     "end_time": "2024-04-10T15:22:04.987177",
     "exception": false,
     "start_time": "2024-04-10T15:22:04.948657",
     "status": "completed"
    },
    "tags": []
   },
   "source": [
    "Pencarian Nilai CV\n",
    "API yang dapat menjalankan kumpulan data kami pada beberapa metode untuk memeriksa algoritma mana yang terbaik"
   ]
  },
  {
   "cell_type": "code",
   "execution_count": 192,
   "id": "9cfa4a46",
   "metadata": {
    "execution": {
     "iopub.execute_input": "2024-04-10T15:22:05.066077Z",
     "iopub.status.busy": "2024-04-10T15:22:05.065424Z",
     "iopub.status.idle": "2024-04-10T15:22:12.572631Z",
     "shell.execute_reply": "2024-04-10T15:22:12.571715Z"
    },
    "papermill": {
     "duration": 7.54874,
     "end_time": "2024-04-10T15:22:12.574616",
     "exception": false,
     "start_time": "2024-04-10T15:22:05.025876",
     "status": "completed"
    },
    "tags": []
   },
   "outputs": [
    {
     "data": {
      "text/html": [
       "<div>\n",
       "<style scoped>\n",
       "    .dataframe tbody tr th:only-of-type {\n",
       "        vertical-align: middle;\n",
       "    }\n",
       "\n",
       "    .dataframe tbody tr th {\n",
       "        vertical-align: top;\n",
       "    }\n",
       "\n",
       "    .dataframe thead th {\n",
       "        text-align: right;\n",
       "    }\n",
       "</style>\n",
       "<table border=\"1\" class=\"dataframe\">\n",
       "  <thead>\n",
       "    <tr style=\"text-align: right;\">\n",
       "      <th></th>\n",
       "      <th>model</th>\n",
       "      <th>best_score</th>\n",
       "      <th>best_params</th>\n",
       "    </tr>\n",
       "  </thead>\n",
       "  <tbody>\n",
       "    <tr>\n",
       "      <th>0</th>\n",
       "      <td>LinearRegression</td>\n",
       "      <td>0.788758</td>\n",
       "      <td>{}</td>\n",
       "    </tr>\n",
       "    <tr>\n",
       "      <th>1</th>\n",
       "      <td>Lasso</td>\n",
       "      <td>0.656993</td>\n",
       "      <td>{'alpha': 1, 'selection': 'random'}</td>\n",
       "    </tr>\n",
       "    <tr>\n",
       "      <th>2</th>\n",
       "      <td>decision_tree</td>\n",
       "      <td>0.681288</td>\n",
       "      <td>{'criterion': 'friedman_mse', 'splitter': 'ran...</td>\n",
       "    </tr>\n",
       "  </tbody>\n",
       "</table>\n",
       "</div>"
      ],
      "text/plain": [
       "              model  best_score  \\\n",
       "0  LinearRegression    0.788758   \n",
       "1             Lasso    0.656993   \n",
       "2     decision_tree    0.681288   \n",
       "\n",
       "                                         best_params  \n",
       "0                                                 {}  \n",
       "1                {'alpha': 1, 'selection': 'random'}  \n",
       "2  {'criterion': 'friedman_mse', 'splitter': 'ran...  "
      ]
     },
     "execution_count": 192,
     "metadata": {},
     "output_type": "execute_result"
    }
   ],
   "source": [
    "from sklearn.model_selection import GridSearchCV\n",
    "\n",
    "from sklearn.linear_model import Lasso\n",
    "from sklearn.tree import DecisionTreeRegressor\n",
    "\n",
    "def find_best_model_using_gridsearchcv(X,y):\n",
    "    algos = {\n",
    "        'LinearRegression' : {\n",
    "            'model' : LinearRegression(),\n",
    "            'params' : {\n",
    "              \n",
    "            }\n",
    "        },\n",
    "        'Lasso' : {\n",
    "            'model' : Lasso(),\n",
    "            'params' : {\n",
    "                'alpha' : [1,2],\n",
    "                'selection' : ['random', 'cyclic']\n",
    "            }\n",
    "        },\n",
    "        'decision_tree' : {\n",
    "            'model' : DecisionTreeRegressor(),\n",
    "            'params' : {\n",
    "                'criterion' : ['mse', 'friedman_mse'],\n",
    "                'splitter' : ['best', 'random']\n",
    "            }\n",
    "        }\n",
    "    }\n",
    "\n",
    "    scores = []\n",
    "    cv = ShuffleSplit(n_splits=5, test_size=0.2, random_state=0)\n",
    "\n",
    "    for algo_name, config in algos.items():\n",
    "        gs = GridSearchCV(config['model'], config['params'], cv=cv, return_train_score=False)\n",
    "        gs.fit(X,y)\n",
    "        scores.append({\n",
    "            'model': algo_name,\n",
    "            'best_score': gs.best_score_,\n",
    "            'best_params': gs.best_params_\n",
    "        })\n",
    "    return pd.DataFrame(scores, columns=['model', 'best_score', 'best_params'])\n",
    "\n",
    "find_best_model_using_gridsearchcv(X,y)"
   ]
  },
  {
   "cell_type": "markdown",
   "id": "68311970",
   "metadata": {
    "papermill": {
     "duration": 0.038611,
     "end_time": "2024-04-10T15:22:12.655037",
     "exception": false,
     "start_time": "2024-04-10T15:22:12.616426",
     "status": "completed"
    },
    "tags": []
   },
   "source": [
    "## Prediction "
   ]
  },
  {
   "cell_type": "code",
   "execution_count": 193,
   "id": "5350d200",
   "metadata": {
    "execution": {
     "iopub.execute_input": "2024-04-10T15:22:12.734148Z",
     "iopub.status.busy": "2024-04-10T15:22:12.733808Z",
     "iopub.status.idle": "2024-04-10T15:22:12.739666Z",
     "shell.execute_reply": "2024-04-10T15:22:12.738782Z"
    },
    "papermill": {
     "duration": 0.047442,
     "end_time": "2024-04-10T15:22:12.741500",
     "exception": false,
     "start_time": "2024-04-10T15:22:12.694058",
     "status": "completed"
    },
    "tags": []
   },
   "outputs": [],
   "source": [
    "def predict_price(location,sqft,bath,bhk):\n",
    "    loc_index = np.where(X.columns==location)[0][0]\n",
    "\n",
    "    x = np.zeros(len(X.columns))\n",
    "    x[0] = sqft\n",
    "    x[1] = bath\n",
    "    x[2] = bhk\n",
    "    if loc_index>=0:\n",
    "        x[loc_index] = 1\n",
    "\n",
    "    return lr_clf.predict([x])[0]\n",
    "\n"
   ]
  },
  {
   "cell_type": "code",
   "execution_count": 194,
   "id": "e4df493b",
   "metadata": {
    "execution": {
     "iopub.execute_input": "2024-04-10T15:22:12.820314Z",
     "iopub.status.busy": "2024-04-10T15:22:12.820019Z",
     "iopub.status.idle": "2024-04-10T15:22:12.826362Z",
     "shell.execute_reply": "2024-04-10T15:22:12.825497Z"
    },
    "papermill": {
     "duration": 0.047921,
     "end_time": "2024-04-10T15:22:12.828249",
     "exception": false,
     "start_time": "2024-04-10T15:22:12.780328",
     "status": "completed"
    },
    "tags": []
   },
   "outputs": [
    {
     "data": {
      "text/plain": [
       "84.57297664211315"
      ]
     },
     "execution_count": 194,
     "metadata": {},
     "output_type": "execute_result"
    }
   ],
   "source": [
    "predict_price('1st Phase JP Nagar', 1000,2,2)"
   ]
  },
  {
   "cell_type": "code",
   "execution_count": 195,
   "id": "1632c98b",
   "metadata": {
    "execution": {
     "iopub.execute_input": "2024-04-10T15:22:12.907963Z",
     "iopub.status.busy": "2024-04-10T15:22:12.907697Z",
     "iopub.status.idle": "2024-04-10T15:22:12.913927Z",
     "shell.execute_reply": "2024-04-10T15:22:12.913179Z"
    },
    "papermill": {
     "duration": 0.048485,
     "end_time": "2024-04-10T15:22:12.915985",
     "exception": false,
     "start_time": "2024-04-10T15:22:12.867500",
     "status": "completed"
    },
    "tags": []
   },
   "outputs": [
    {
     "data": {
      "text/plain": [
       "76.26575591061327"
      ]
     },
     "execution_count": 195,
     "metadata": {},
     "output_type": "execute_result"
    }
   ],
   "source": [
    "predict_price('1st Phase JP Nagar', 1000,2,3)"
   ]
  },
  {
   "cell_type": "code",
   "execution_count": 196,
   "id": "c22434bf",
   "metadata": {
    "execution": {
     "iopub.execute_input": "2024-04-10T15:22:12.995733Z",
     "iopub.status.busy": "2024-04-10T15:22:12.995426Z",
     "iopub.status.idle": "2024-04-10T15:22:13.001602Z",
     "shell.execute_reply": "2024-04-10T15:22:13.000752Z"
    },
    "papermill": {
     "duration": 0.048224,
     "end_time": "2024-04-10T15:22:13.003714",
     "exception": false,
     "start_time": "2024-04-10T15:22:12.955490",
     "status": "completed"
    },
    "tags": []
   },
   "outputs": [
    {
     "data": {
      "text/plain": [
       "159.1876504654181"
      ]
     },
     "execution_count": 196,
     "metadata": {},
     "output_type": "execute_result"
    }
   ],
   "source": [
    "predict_price('Indira Nagar', 1000,2,2)"
   ]
  },
  {
   "cell_type": "code",
   "execution_count": 197,
   "id": "4cfdb17e",
   "metadata": {
    "execution": {
     "iopub.execute_input": "2024-04-10T15:22:13.084056Z",
     "iopub.status.busy": "2024-04-10T15:22:13.083804Z",
     "iopub.status.idle": "2024-04-10T15:22:13.090282Z",
     "shell.execute_reply": "2024-04-10T15:22:13.089478Z"
    },
    "papermill": {
     "duration": 0.048426,
     "end_time": "2024-04-10T15:22:13.092259",
     "exception": false,
     "start_time": "2024-04-10T15:22:13.043833",
     "status": "completed"
    },
    "tags": []
   },
   "outputs": [
    {
     "data": {
      "text/plain": [
       "164.19108969658478"
      ]
     },
     "execution_count": 197,
     "metadata": {},
     "output_type": "execute_result"
    }
   ],
   "source": [
    "predict_price('Indira Nagar', 1000,3,2)"
   ]
  },
  {
   "cell_type": "markdown",
   "id": "70c46ab9",
   "metadata": {},
   "source": [
    "## Saving Model"
   ]
  },
  {
   "cell_type": "code",
   "execution_count": 200,
   "id": "986ebd3b",
   "metadata": {},
   "outputs": [
    {
     "name": "stdout",
     "output_type": "stream",
     "text": [
      "Model berhasil disimpan!\n"
     ]
    }
   ],
   "source": [
    "import joblib\n",
    "\n",
    "joblib.dump(lr_clf, './Deploy/real-estate-price.joblib')\n",
    "print(\"Model berhasil disimpan!\")\n"
   ]
  }
 ],
 "metadata": {
  "kaggle": {
   "accelerator": "gpu",
   "dataSources": [
    {
     "databundleVersionId": 6501482,
     "datasetId": 3703429,
     "sourceId": 6420107,
     "sourceType": "datasetVersion"
    },
    {
     "databundleVersionId": 1947931,
     "datasetId": 1138397,
     "sourceId": 1909531,
     "sourceType": "datasetVersion"
    },
    {
     "databundleVersionId": 4582269,
     "datasetId": 2642334,
     "sourceId": 4521586,
     "sourceType": "datasetVersion"
    },
    {
     "databundleVersionId": 3585503,
     "datasetId": 2124944,
     "sourceId": 3532655,
     "sourceType": "datasetVersion"
    },
    {
     "databundleVersionId": 6778806,
     "datasetId": 3859674,
     "sourceId": 6694481,
     "sourceType": "datasetVersion"
    },
    {
     "databundleVersionId": 6449724,
     "datasetId": 3669400,
     "sourceId": 6368902,
     "sourceType": "datasetVersion"
    },
    {
     "databundleVersionId": 5438537,
     "datasetId": 3113714,
     "sourceId": 5365001,
     "sourceType": "datasetVersion"
    },
    {
     "databundleVersionId": 7938441,
     "datasetId": 4592113,
     "sourceId": 7834562,
     "sourceType": "datasetVersion"
    },
    {
     "databundleVersionId": 6720151,
     "datasetId": 3831083,
     "sourceId": 6636359,
     "sourceType": "datasetVersion"
    },
    {
     "databundleVersionId": 6893019,
     "datasetId": 3911251,
     "sourceId": 6807827,
     "sourceType": "datasetVersion"
    },
    {
     "databundleVersionId": 7407808,
     "datasetId": 4246446,
     "sourceId": 7317766,
     "sourceType": "datasetVersion"
    },
    {
     "databundleVersionId": 1557741,
     "datasetId": 898072,
     "sourceId": 1523358,
     "sourceType": "datasetVersion"
    },
    {
     "databundleVersionId": 215597,
     "datasetId": 88705,
     "sourceId": 204267,
     "sourceType": "datasetVersion"
    },
    {
     "databundleVersionId": 7236852,
     "datasetId": 4126647,
     "sourceId": 7147995,
     "sourceType": "datasetVersion"
    },
    {
     "databundleVersionId": 6148496,
     "datasetId": 3474192,
     "sourceId": 6070136,
     "sourceType": "datasetVersion"
    },
    {
     "databundleVersionId": 8092475,
     "datasetId": 3202774,
     "sourceId": 7981839,
     "sourceType": "datasetVersion"
    }
   ],
   "dockerImageVersionId": 30664,
   "isGpuEnabled": true,
   "isInternetEnabled": true,
   "language": "python",
   "sourceType": "notebook"
  },
  "kernelspec": {
   "display_name": "TFnn",
   "language": "python",
   "name": "python3"
  },
  "language_info": {
   "codemirror_mode": {
    "name": "ipython",
    "version": 3
   },
   "file_extension": ".py",
   "mimetype": "text/x-python",
   "name": "python",
   "nbconvert_exporter": "python",
   "pygments_lexer": "ipython3",
   "version": "3.10.13"
  },
  "papermill": {
   "default_parameters": {},
   "duration": 25.721412,
   "end_time": "2024-04-10T15:22:14.035079",
   "environment_variables": {},
   "exception": null,
   "input_path": "__notebook__.ipynb",
   "output_path": "__notebook__.ipynb",
   "parameters": {},
   "start_time": "2024-04-10T15:21:48.313667",
   "version": "2.5.0"
  }
 },
 "nbformat": 4,
 "nbformat_minor": 5
}
